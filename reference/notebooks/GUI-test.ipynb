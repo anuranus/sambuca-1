{
 "metadata": {
  "name": "",
  "signature": "sha256:9ff9b336b5379a66cd6dbb11dee6c051f64dac78ac0c74ad0a2fcffeefbe7d89"
 },
 "nbformat": 3,
 "nbformat_minor": 0,
 "worksheets": [
  {
   "cells": [
    {
     "cell_type": "code",
     "collapsed": false,
     "input": [
      "%gui tk\n",
      "%matplotlib tk\n",
      "\n",
      "from tkinter import *\n",
      "root = Tk()\n",
      "root.withdraw()"
     ],
     "language": "python",
     "metadata": {},
     "outputs": []
    },
    {
     "cell_type": "code",
     "collapsed": false,
     "input": [
      "filename = ''"
     ],
     "language": "python",
     "metadata": {},
     "outputs": []
    },
    {
     "cell_type": "code",
     "collapsed": false,
     "input": [
      "if filename is '':\n",
      "    filename = filedialog.askopenfilename(parent=root)\n",
      "    \n",
      "print(filename)"
     ],
     "language": "python",
     "metadata": {},
     "outputs": []
    },
    {
     "cell_type": "code",
     "collapsed": false,
     "input": [],
     "language": "python",
     "metadata": {},
     "outputs": []
    }
   ],
   "metadata": {}
  }
 ]
}