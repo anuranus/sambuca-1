{
 "metadata": {
  "name": "",
  "signature": "sha256:a27ffcd51b128650291056f500cd14f13ff9ad3b7cd87222bd6c1333c456007e"
 },
 "nbformat": 3,
 "nbformat_minor": 0,
 "worksheets": [
  {
   "cells": [
    {
     "cell_type": "code",
     "collapsed": false,
     "input": [
      "%gui tk\n",
      "%matplotlib tk\n",
      "\n",
      "from tkinter import *\n",
      "root = Tk()\n",
      "root.withdraw()"
     ],
     "language": "python",
     "metadata": {},
     "outputs": [
      {
       "metadata": {},
       "output_type": "pyout",
       "prompt_number": 1,
       "text": [
        "''"
       ]
      }
     ],
     "prompt_number": 1
    },
    {
     "cell_type": "code",
     "collapsed": false,
     "input": [
      "filename = ''"
     ],
     "language": "python",
     "metadata": {},
     "outputs": [],
     "prompt_number": 2
    },
    {
     "cell_type": "code",
     "collapsed": false,
     "input": [
      "if filename is '':\n",
      "    filename = filedialog.askopenfilename(parent=root)\n",
      "    \n",
      "print(filename)"
     ],
     "language": "python",
     "metadata": {},
     "outputs": [
      {
       "output_type": "stream",
       "stream": "stdout",
       "text": [
        "/home/col52j/projects/sambuca_project/sambuca/.bumpversion.cfg\n"
       ]
      }
     ],
     "prompt_number": 3
    },
    {
     "cell_type": "code",
     "collapsed": false,
     "input": [],
     "language": "python",
     "metadata": {},
     "outputs": [],
     "prompt_number": 3
    }
   ],
   "metadata": {}
  }
 ]
}