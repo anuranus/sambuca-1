{
 "cells": [
  {
   "cell_type": "markdown",
   "metadata": {},
   "source": [
    "# A Sketch using the new sambuca-core functionality\n",
    "\n",
    "This is a sketch of one way to perform Sambuca parameter estimation using the sambuca-core functionality.\n",
    "\n",
    "I prepared this notebook for two reasons: first, as a design sketch for functionality that I plan to implement in the actual sambuca package, and second as reference notes for other users of the system."
   ]
  },
  {
   "cell_type": "markdown",
   "metadata": {},
   "source": [
    "# Set up the environment\n",
    "Nothing fancy here, just some imports and other setup code."
   ]
  },
  {
   "cell_type": "markdown",
   "metadata": {},
   "source": [
    "First, import the standard Scipy stuff, and configure matplotlib"
   ]
  },
  {
   "cell_type": "code",
   "execution_count": 1,
   "metadata": {
    "collapsed": true
   },
   "outputs": [],
   "source": [
    "%matplotlib inline\n",
    "from collections import namedtuple\n",
    "from pkg_resources import resource_filename\n",
    "from os.path import join\n",
    "\n",
    "import numpy as np\n",
    "import matplotlib.pyplot as plt\n",
    "import rasterio\n",
    "from scipy.io import loadmat\n",
    "from scipy.optimize import minimize\n",
    "\n",
    "#import spectral as sp\n",
    "#import spectral.io.envi as envi\n",
    "\n",
    "# set some controls on numpy formatting\n",
    "# 5 decimal places, suppress scientific notation\n",
    "np.set_printoptions(precision=5, suppress=True)\n",
    "\n",
    "# set the matplotlib style to emulate ggplot2 from R\n",
    "plt.style.use('ggplot')\n",
    "plot_width = 12\n",
    "plot_height = plot_width * 3/4"
   ]
  },
  {
   "cell_type": "markdown",
   "metadata": {},
   "source": [
    "Now import the sambuca and sambuca-core packages:"
   ]
  },
  {
   "cell_type": "code",
   "execution_count": 2,
   "metadata": {
    "collapsed": false
   },
   "outputs": [],
   "source": [
    "import sambuca as sb\n",
    "import sambuca_core as sbc"
   ]
  },
  {
   "cell_type": "markdown",
   "metadata": {},
   "source": [
    "# Utility Functions"
   ]
  },
  {
   "cell_type": "code",
   "execution_count": 3,
   "metadata": {
    "collapsed": true
   },
   "outputs": [],
   "source": [
    "plot_items = []"
   ]
  },
  {
   "cell_type": "code",
   "execution_count": 4,
   "metadata": {
    "collapsed": true
   },
   "outputs": [],
   "source": [
    "def print_parameters(p):\n",
    "    print(\n",
    "'''\\\n",
    "    CHL:  {0:10.5f}\n",
    "    CDOM: {1:10.5f}\n",
    "    TR:   {2:10.5f}\n",
    "    H:    {3:10.5f}\n",
    "    Q:    {4:10.5f}'''\n",
    "          .format(p.chl,p.cdom,p.nap,p.depth,p.substrate_fraction))"
   ]
  },
  {
   "cell_type": "code",
   "execution_count": 5,
   "metadata": {
    "collapsed": true
   },
   "outputs": [],
   "source": [
    "def show_plot():\n",
    "    plt.figure(figsize=(plot_width, plot_height))\n",
    "    for label, data in plot_items:\n",
    "        plt.plot(data[0], data[1], label=label)\n",
    "        \n",
    "    plt.legend(loc='upper right')\n",
    "    plt.show()"
   ]
  },
  {
   "cell_type": "code",
   "execution_count": 6,
   "metadata": {
    "collapsed": true
   },
   "outputs": [],
   "source": [
    "def add_sensor_filter_to_plot(filter_data):\n",
    "    band_centre_wavelengths = filter_data[0]\n",
    "    sensor_filter = filter_data[1]\n",
    "    num_bands = sensor_filter.shape[0]\n",
    "\n",
    "    for band in range(num_bands):\n",
    "        band_data = sensor_filter[band, :]\n",
    "        plot_items.append((\n",
    "                'Filter Band {0}'.format(band),\n",
    "                (band_centre_wavelengths, band_data)))"
   ]
  },
  {
   "cell_type": "markdown",
   "metadata": {},
   "source": [
    "# Load the reference data"
   ]
  },
  {
   "cell_type": "markdown",
   "metadata": {},
   "source": [
    "## Configuration"
   ]
  },
  {
   "cell_type": "code",
   "execution_count": 7,
   "metadata": {
    "collapsed": false
   },
   "outputs": [],
   "source": [
    "base_path = '/home/dc/code/sambuca-project/bioopti_data/'\n",
    "\n",
    "observed_rrs_base_path = '../wl_alos_data/inputs'\n",
    "observed_rrs_raster_path = join(observed_rrs_base_path, 'WL_ALOS_R_0_sub120.img')\n",
    "\n",
    "sensor_filter_path = join(base_path, 'sensor_filters')\n",
    "sensor_filter_name = 'ALOS'\n",
    "\n",
    "substrate_path = join(base_path, 'Substrates')\n",
    "substrate1_name = 'moreton_bay_speclib:white Sand'\n",
    "substrate2_name = 'moreton_bay_speclib:brown Mud'\n",
    "\n",
    "aphy_star_path = join(base_path, 'SIOP/WL08_aphy_1nm.hdr')\n",
    "aphy_star_name = 'wl08_aphy_1nm:WL08_aphy_star_mean_correct.csv:C2'\n",
    "\n",
    "awater_path = join(base_path, 'SIOP/aw_350_900_lw2002_1nm.csv')\n",
    "awater_name = 'aw_350_900_lw2002_1nm:0.0204'\n",
    "\n",
    "nedr_path = join(observed_rrs_base_path, 'WL_ALOS_NEDR_0_4bands.hdr')"
   ]
  },
  {
   "cell_type": "markdown",
   "metadata": {},
   "source": [
    "## Parameters"
   ]
  },
  {
   "cell_type": "markdown",
   "metadata": {},
   "source": [
    "Define the upper and lower bounds for the free parameters."
   ]
  },
  {
   "cell_type": "code",
   "execution_count": 8,
   "metadata": {
    "collapsed": true
   },
   "outputs": [],
   "source": [
    "p_min = sb.FreeParameters(\n",
    "    chl=0.01, \n",
    "    cdom=0.0005, \n",
    "    nap=0.2,\n",
    "    depth=0.1,\n",
    "    substrate_fraction=0)"
   ]
  },
  {
   "cell_type": "code",
   "execution_count": 9,
   "metadata": {
    "collapsed": true
   },
   "outputs": [],
   "source": [
    "p_max = sb.FreeParameters(\n",
    "    chl=0.22, \n",
    "    cdom=0.015, \n",
    "    nap=2.4,\n",
    "    depth=17.4,\n",
    "    substrate_fraction=1)"
   ]
  },
  {
   "cell_type": "markdown",
   "metadata": {},
   "source": [
    "Create some initial parameters, one random and one as the mid point of each parameter range:"
   ]
  },
  {
   "cell_type": "code",
   "execution_count": 10,
   "metadata": {
    "collapsed": false
   },
   "outputs": [
    {
     "name": "stdout",
     "output_type": "stream",
     "text": [
      "p0_rand:  [ 0.11611  0.01002  0.47751  4.60138  0.4908 ]\n",
      "p0_mid:  [ 0.105    0.00725  1.1      8.65     0.5    ]\n"
     ]
    }
   ],
   "source": [
    "pmin = np.array(p_min)\n",
    "pmax = np.array(p_max)\n",
    "num_params = len(pmin)\n",
    "p0_rand = np.random.random(num_params) * (pmax - pmin) + pmin\n",
    "p0_mid = (pmax - pmin) / 2\n",
    "\n",
    "print('p0_rand: ', p0_rand)\n",
    "print('p0_mid: ', p0_mid)"
   ]
  },
  {
   "cell_type": "markdown",
   "metadata": {},
   "source": [
    "## Observed Reflectance"
   ]
  },
  {
   "cell_type": "markdown",
   "metadata": {},
   "source": [
    "### Load the ENVI raster with the rasterio library\n",
    "And use that to store some basic metadata..."
   ]
  },
  {
   "cell_type": "code",
   "execution_count": 11,
   "metadata": {
    "collapsed": false
   },
   "outputs": [
    {
     "name": "stdout",
     "output_type": "stream",
     "text": [
      "Observed rrs file:  ../wl_alos_data/inputs/WL_ALOS_R_0_sub120.img\n",
      "Width, height:  120 120\n",
      "crs:  {'init': 'epsg:32756'}\n",
      "affine:  | 10.00, 0.00, 452754.14|\n",
      "| 0.00,-10.00, 6431592.57|\n",
      "| 0.00, 0.00, 1.00|\n",
      "num bands:  4\n",
      "band indicies:  [1, 2, 3, 4]\n"
     ]
    }
   ],
   "source": [
    "observed_rrs_width = 0\n",
    "observed_rrs_height = 0\n",
    "\n",
    "with rasterio.drivers():\n",
    "    with rasterio.open(observed_rrs_raster_path) as src:\n",
    "        print('Observed rrs file: ', observed_rrs_raster_path)\n",
    "        print('Width, height: ', src.width, src.height)\n",
    "        print('crs: ', src.crs)\n",
    "        print('affine: ', src.affine)\n",
    "        print('num bands: ', src.count)\n",
    "        print('band indicies: ', src.indexes)\n",
    "        \n",
    "        observed_rrs_width = src.width\n",
    "        observed_rrs_height = src.height"
   ]
  },
  {
   "cell_type": "markdown",
   "metadata": {},
   "source": [
    "## Load SIOPs and other data using the sambuca-core functions"
   ]
  },
  {
   "cell_type": "markdown",
   "metadata": {},
   "source": [
    "### Load the sensor filter:"
   ]
  },
  {
   "cell_type": "code",
   "execution_count": 12,
   "metadata": {
    "collapsed": false
   },
   "outputs": [
    {
     "data": {
      "text/plain": [
       "dict_keys(['LS8QB', 'WV27B', 'PHILLS', 'LDCM', 'LS8w', 'ALOS', 'QB', 'LS7', 'LS8', 'WV2', 'Hymap06', 'LS8b', 'LS7b', 'LS5b', 'CASI04', 'LS7c', 'LS5'])"
      ]
     },
     "execution_count": 12,
     "metadata": {},
     "output_type": "execute_result"
    }
   ],
   "source": [
    "sensor_filters = sbc.load_sensor_filters(sensor_filter_path)\n",
    "\n",
    "# We don't need to do this, but it lets us see the name of all loaded filters\n",
    "sensor_filters.keys()"
   ]
  },
  {
   "cell_type": "code",
   "execution_count": 13,
   "metadata": {
    "collapsed": false
   },
   "outputs": [],
   "source": [
    "sensor_filter = sensor_filters[sensor_filter_name]"
   ]
  },
  {
   "cell_type": "code",
   "execution_count": 14,
   "metadata": {
    "collapsed": false,
    "scrolled": false
   },
   "outputs": [
    {
     "data": {
      "image/png": "[encoded data removed]",
      "text/plain": [
       "<matplotlib.figure.Figure at 0x7f413762b860>"
      ]
     },
     "metadata": {},
     "output_type": "display_data"
    }
   ],
   "source": [
    "plot_items.clear()\n",
    "add_sensor_filter_to_plot(sensor_filter)\n",
    "show_plot()"
   ]
  },
  {
   "cell_type": "markdown",
   "metadata": {},
   "source": [
    "### Load the substrates\n",
    "This example uses the load_all_spectral_libraries function to return a dictionary of everything found in a directory. We then retrieve the required substrates from the dictionary."
   ]
  },
  {
   "cell_type": "code",
   "execution_count": 15,
   "metadata": {
    "collapsed": false
   },
   "outputs": [],
   "source": [
    "all_substrates = sbc.load_all_spectral_libraries(substrate_path)\n",
    "substrate1 = all_substrates[substrate1_name]\n",
    "substrate2 = all_substrates[substrate2_name]"
   ]
  },
  {
   "cell_type": "markdown",
   "metadata": {},
   "source": [
    "Note that the sambuca_core spectral library loading functions return a dictionary of (band-centre wavelength, value) tuples. Thus substrate1 and substrate2 are tuples."
   ]
  },
  {
   "cell_type": "markdown",
   "metadata": {},
   "source": [
    "### Aphystar\n",
    "Here we load a single file, although we could have used the load_all_spectral_libraries approach with the same result.\n",
    "\n",
    "Note that although we specify a single file, a dictionary is still returned. This is for two reasons: consistency with the other functions, and because a single file may contain multiple spectra."
   ]
  },
  {
   "cell_type": "code",
   "execution_count": 16,
   "metadata": {
    "collapsed": false
   },
   "outputs": [],
   "source": [
    "aphy_star = sbc.load_spectral_library(aphy_star_path)[aphy_star_name]"
   ]
  },
  {
   "cell_type": "markdown",
   "metadata": {},
   "source": [
    "### Awater"
   ]
  },
  {
   "cell_type": "code",
   "execution_count": 20,
   "metadata": {
    "collapsed": false
   },
   "outputs": [],
   "source": [
    "awater = sbc.load_spectral_library(awater_path)[awater_name]"
   ]
  },
  {
   "cell_type": "markdown",
   "metadata": {},
   "source": [
    "### NEDR"
   ]
  },
  {
   "cell_type": "code",
   "execution_count": 21,
   "metadata": {
    "collapsed": false,
    "scrolled": true
   },
   "outputs": [
    {
     "data": {
      "text/plain": [
       "(array([ 460.,  560.,  650.,  825.]),\n",
       " array([ 0.00336,  0.00252,  0.00232,  0.00319]))"
      ]
     },
     "execution_count": 21,
     "metadata": {},
     "output_type": "execute_result"
    }
   ],
   "source": [
    "nedr = sbc.load_spectral_library(nedr_path, validate=False)['wl_alos_nedr_0_4bands:33']\n",
    "nedr"
   ]
  },
  {
   "cell_type": "markdown",
   "metadata": {},
   "source": [
    "### Plot the SIOPS, just because we can :)"
   ]
  },
  {
   "cell_type": "markdown",
   "metadata": {},
   "source": [
    "Leave awater out of the first plot, because the scale obscures other values"
   ]
  },
  {
   "cell_type": "code",
   "execution_count": null,
   "metadata": {
    "collapsed": false
   },
   "outputs": [],
   "source": [
    "plot_items.clear()\n",
    "plot_items.append(('s1', substrate1))\n",
    "plot_items.append(('s2', substrate2))\n",
    "plot_items.append(('aphy*', aphy_star))\n",
    "add_sensor_filter_to_plot(sensor_filter)\n",
    "show_plot()"
   ]
  },
  {
   "cell_type": "markdown",
   "metadata": {},
   "source": [
    "Second plot, with awater"
   ]
  },
  {
   "cell_type": "code",
   "execution_count": null,
   "metadata": {
    "collapsed": false,
    "scrolled": false
   },
   "outputs": [],
   "source": [
    "plot_items.append(('awater', awater))\n",
    "show_plot()"
   ]
  },
  {
   "cell_type": "markdown",
   "metadata": {},
   "source": [
    "# Spatial run with single substrate pair"
   ]
  },
  {
   "cell_type": "markdown",
   "metadata": {},
   "source": [
    "**The outline of the algorithm here is**:\n",
    "- Load the input data\n",
    "- Load the observed rrs raster with rasterio\n",
    "- Set the parameter bounds and initial values\n",
    "- Create the objective object\n",
    "- Create a pixel result handler that does something with the pixel results from the parameter estimator\n",
    "- run the parameter estimator on the pixel range"
   ]
  },
  {
   "cell_type": "markdown",
   "metadata": {},
   "source": [
    "## A note on parallelism\n",
    "\n",
    "This notebook is deliberately using serial code. It is intended as a documented version of my working notes on Sambuca, for use by future authors in completing the system.\n",
    "\n",
    "I think that a course-grained parallelism approach will work well for Sambuca, with the decomposition based on spatial tiling of the total problem area. A suggested outline is:\n",
    "- Spatial decomposition splits the input region into a user defined number of spatial tiles\n",
    "    - This need not require the generation of new files. It might be sufficient to generate a list of regions (eg: pixel bounds (xmin=100, xmax=200, ymin=3000, ymax=3100)) that will tell each sambuca process the data subset it should operate on.\n",
    "- A separate serial Sambuca process is executed on each tile\n",
    "    - depending on the implementation method, the results could then be written out to separate files encoded with the tile index, or they could be passed in memory back to the main process for the composition stage (eg: an MPI-like approach).\n",
    "- When all Sambuca runs are complete, a spatial composition stage joins the tiled outputs into a final set of spatial outputs.\n",
    "\n",
    "Python parallel processing approaches that look promising are:\n",
    "### IPython Parallel\n",
    "- Master python code does these tasks\n",
    "    - set up problem (input spectra, parameter bounds, etc)\n",
    "    - defines (probably from user configuration)\n",
    "        - required output products\n",
    "    - initialise the IPython parallel framework (ipcluster, engines etc)\n",
    "    - spatial decomposition into tiles, with each tile being processed by a single engine\n",
    "        - each engine will be doing serial processing over its allocated spatial region in much the same way as the code in this notebook.\n",
    "    - recompose the results from each engine into the final set of outputs\n",
    "- It remains to be seen if the best performance will be achieved by:\n",
    "    - having each parallel task generate a full set of results by feeding the estimated parameters back into the Sambuca model, or\n",
    "    - simply returning the estimated parameters (or a null-result for pixels that fail to converge) to the master code. These parameters could then be used to generate the rest of the outputs.\n",
    "\n",
    "The first approach reduces the amount of parallelism, but also reduces the amount of data being passed as messages. I suspect the second approach will be preferable.\n",
    "   \n",
    "### Rasterio & rio-mucho  \n",
    "The rio-mucho library promises parallel processing of spatial data by providing a parallel spatial tiling system on top of rasterio.\n",
    "- This is worth investigation.\n",
    "- However, the current documentation suggests that rio-mucho only handles writing to a single output raster. If so, this would require all Sambuca outputs being written into one raster. Depending on the required outputs, this could easily generate a raster with dozens of bands, many of which don't really belong together.\n",
    "    - If this approach gives good performance, then post-processing could be used to split the *uber-raster* into separate files.        "
   ]
  },
  {
   "cell_type": "markdown",
   "metadata": {},
   "source": [
    "# Define the spatial region"
   ]
  },
  {
   "cell_type": "markdown",
   "metadata": {},
   "source": [
    "For the sake of simplicity, I am just defining a simple rectangle of pixel coordinates. In the final application this will could be one of:\n",
    "- An entire raster with the number of tiles specified\n",
    "- A spatial polygon along with the number of tiles to decompose into"
   ]
  },
  {
   "cell_type": "code",
   "execution_count": null,
   "metadata": {
    "collapsed": true
   },
   "outputs": [],
   "source": [
    "xstart = 60\n",
    "xend = 100\n",
    "#xend = xstart + 30\n",
    "xspan = xend - xstart\n",
    "ystart = 80\n",
    "yend = 100\n",
    "#yend = ystart + 10\n",
    "num_pixels = xspan * (yend - ystart)"
   ]
  },
  {
   "cell_type": "markdown",
   "metadata": {},
   "source": [
    "# Do the run"
   ]
  },
  {
   "cell_type": "markdown",
   "metadata": {},
   "source": [
    "## Create some IPython widgets for progress reporting"
   ]
  },
  {
   "cell_type": "code",
   "execution_count": null,
   "metadata": {
    "collapsed": false
   },
   "outputs": [],
   "source": [
    "from IPython.display import clear_output, display\n",
    "from ipywidgets import IntProgress, Text\n",
    "\n",
    "progress_bar = IntProgress()\n",
    "text_widget = Text()\n",
    "skip_count_widget = Text()\n",
    "progress_bar.max = num_pixels\n",
    "n = 0\n",
    "skip_count = 0"
   ]
  },
  {
   "cell_type": "code",
   "execution_count": null,
   "metadata": {
    "collapsed": false
   },
   "outputs": [],
   "source": [
    "# Load the observed rrs\n",
    "observed_rrs = None\n",
    "\n",
    "with rasterio.drivers():\n",
    "    with rasterio.open(observed_rrs_raster_path) as obs_rrs_src:\n",
    "        # load the observed_rrs raster into a numpy array\n",
    "        # The array will have shape (band, row, col)\n",
    "        observed_rrs = obs_rrs_src.read()\n",
    "        \n",
    "assert observed_rrs is not None\n",
    "print(observed_rrs.shape)"
   ]
  },
  {
   "cell_type": "code",
   "execution_count": null,
   "metadata": {
    "collapsed": false
   },
   "outputs": [],
   "source": [
    "# Create the objective\n",
    "objective = sb.SciPyObjective(sensor_filter, fixed_parameters, nedr)"
   ]
  },
  {
   "cell_type": "markdown",
   "metadata": {},
   "source": [
    "Note this example skips over some extra spatial details that should be addressed:\n",
    "- Getting the invalid pixels mask from rasterio, so that we don't try to process pixels with no data\n"
   ]
  },
  {
   "cell_type": "code",
   "execution_count": null,
   "metadata": {
    "collapsed": false
   },
   "outputs": [],
   "source": [
    "display(text_widget)\n",
    "display(skip_count_widget)\n",
    "display(progress_bar)\n",
    "\n",
    "for x in range(xstart, xend):\n",
    "    for y in range(ystart, yend):\n",
    "        obs_spectra = observed_rrs[,x,y]\n",
    "        \n",
    "        # Quick and dirty check because we are not masking out the no-data pixels\n",
    "        if not np.allclose(obs_spectra, 0):\n",
    "\n",
    "            result = minimize(\n",
    "                        objective, \n",
    "                        p0, \n",
    "                        method='SLSQP', \n",
    "                        bounds=p_bounds, \n",
    "                        options={'disp':False, 'maxiter':500})\n",
    "\n",
    "            # writer/recorder pattern\n",
    "            pixel_result_handler(x, y, result['x'], obs_spectra)\n",
    "        else:\n",
    "            skip_count += 1\n",
    "            skip_count_widget.value = 'Pixels skipped (bad input spectra): {0}'.format(skip_count)\n",
    "        \n",
    "        # update the progress bar\n",
    "        text_widget.value = 'x: {0}  y: {1}  n: {2}'.format(x, y, n)\n",
    "        pb.value = n\n",
    "        n += 1"
   ]
  }
 ],
 "metadata": {
  "kernelspec": {
   "display_name": "Python 3",
   "language": "python",
   "name": "python3"
  },
  "language_info": {
   "codemirror_mode": {
    "name": "ipython",
    "version": 3
   },
   "file_extension": ".py",
   "mimetype": "text/x-python",
   "name": "python",
   "nbconvert_exporter": "python",
   "pygments_lexer": "ipython3",
   "version": "3.5.1"
  }
 },
 "nbformat": 4,
 "nbformat_minor": 0
}
