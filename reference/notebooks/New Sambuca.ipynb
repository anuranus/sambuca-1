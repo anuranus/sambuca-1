{
 "cells": [
  {
   "cell_type": "markdown",
   "metadata": {},
   "source": [
    "# A Sketch using the new sambuca-core functionality\n",
    "\n",
    "This is a sketch of one way to perform Sambuca parameter estimation using the sambuca-core functionality.\n",
    "\n",
    "I prepared this notebook for two reasons: first, as a design sketch for functionality that I plan to implement in the actual sambuca package, and second as reference notes for other users of the system."
   ]
  },
  {
   "cell_type": "markdown",
   "metadata": {},
   "source": [
    "# Set up the environment\n",
    "Nothing fancy here, just some imports and other setup code."
   ]
  },
  {
   "cell_type": "markdown",
   "metadata": {},
   "source": [
    "First, import the standard Scipy stuff, and configure matplotlib"
   ]
  },
  {
   "cell_type": "code",
   "execution_count": 1,
   "metadata": {
    "collapsed": true
   },
   "outputs": [],
   "source": [
    "%matplotlib inline\n",
    "from collections import namedtuple\n",
    "from pkg_resources import resource_filename\n",
    "from os.path import join\n",
    "\n",
    "import numpy as np\n",
    "import matplotlib.pyplot as plt\n",
    "from scipy.io import loadmat\n",
    "from scipy.optimize import minimize\n",
    "\n",
    "# set some controls on numpy formatting\n",
    "# 5 decimal places, suppress scientific notation\n",
    "np.set_printoptions(precision=5, suppress=True)\n",
    "\n",
    "# set the matplotlib style to emulate ggplot2 from R\n",
    "plt.style.use('ggplot')\n",
    "plot_width = 12\n",
    "plot_height = plot_width * 3/4"
   ]
  },
  {
   "cell_type": "markdown",
   "metadata": {},
   "source": [
    "Now import the sambuca and sambuca-core packages:"
   ]
  },
  {
   "cell_type": "code",
   "execution_count": 2,
   "metadata": {
    "collapsed": false
   },
   "outputs": [],
   "source": [
    "import sambuca as sb\n",
    "import sambuca_core as sbc"
   ]
  },
  {
   "cell_type": "markdown",
   "metadata": {},
   "source": [
    "# Utility Functions"
   ]
  },
  {
   "cell_type": "code",
   "execution_count": 3,
   "metadata": {
    "collapsed": true
   },
   "outputs": [],
   "source": [
    "plot_items = []"
   ]
  },
  {
   "cell_type": "code",
   "execution_count": 4,
   "metadata": {
    "collapsed": true
   },
   "outputs": [],
   "source": [
    "def print_parameters(p):\n",
    "    print(\n",
    "'''\\\n",
    "    CHL:  {0:10.5f}\n",
    "    CDOM: {1:10.5f}\n",
    "    TR:   {2:10.5f}\n",
    "    H:    {3:10.5f}\n",
    "    Q:    {4:10.5f}'''\n",
    "          .format(p.chl,p.cdom,p.nap,p.depth,p.substrate_fraction))"
   ]
  },
  {
   "cell_type": "code",
   "execution_count": 5,
   "metadata": {
    "collapsed": true
   },
   "outputs": [],
   "source": [
    "def show_plot():\n",
    "    plt.figure(figsize=(plot_width, plot_height))\n",
    "    for label, data in plot_items:\n",
    "        plt.plot(data[0], data[1], label=label)\n",
    "        \n",
    "    plt.legend(loc='upper right')\n",
    "    plt.show()"
   ]
  },
  {
   "cell_type": "code",
   "execution_count": 6,
   "metadata": {
    "collapsed": true
   },
   "outputs": [],
   "source": [
    "def add_sensor_filter_to_plot(filter_data):\n",
    "    band_centre_wavelengths = filter_data[0]\n",
    "    sensor_filter = filter_data[1]\n",
    "    num_bands = sensor_filter.shape[0]\n",
    "\n",
    "    for band in range(num_bands):\n",
    "        band_data = sensor_filter[band, :]\n",
    "        plot_items.append((\n",
    "                'Filter Band {0}'.format(band),\n",
    "                (band_centre_wavelengths, band_data)))"
   ]
  },
  {
   "cell_type": "markdown",
   "metadata": {},
   "source": [
    "# Load the reference data"
   ]
  },
  {
   "cell_type": "markdown",
   "metadata": {},
   "source": [
    "## Parameter bounds\n",
    "Define the upper and lower bounds for the free parameters."
   ]
  },
  {
   "cell_type": "code",
   "execution_count": 7,
   "metadata": {
    "collapsed": true
   },
   "outputs": [],
   "source": [
    "p_min = sb.FreeParameters(\n",
    "    chl=0.01, \n",
    "    cdom=0.0005, \n",
    "    nap=0.2,\n",
    "    depth=0.1,\n",
    "    substrate_fraction=0)"
   ]
  },
  {
   "cell_type": "code",
   "execution_count": 8,
   "metadata": {
    "collapsed": true
   },
   "outputs": [],
   "source": [
    "p_max = sb.FreeParameters(\n",
    "    chl=0.22, \n",
    "    cdom=0.015, \n",
    "    nap=2.4,\n",
    "    depth=17.4,\n",
    "    substrate_fraction=1)"
   ]
  },
  {
   "cell_type": "markdown",
   "metadata": {},
   "source": [
    "## observed reflectance"
   ]
  },
  {
   "cell_type": "markdown",
   "metadata": {},
   "source": [
    "## Load SIOPs and other data using the sambuca-core functions"
   ]
  },
  {
   "cell_type": "code",
   "execution_count": null,
   "metadata": {
    "collapsed": true
   },
   "outputs": [],
   "source": [
    "base_path = '/home/dc/code/sambuca-project/bioopti_data/'"
   ]
  },
  {
   "cell_type": "markdown",
   "metadata": {},
   "source": [
    "### Load the sensor filter:"
   ]
  },
  {
   "cell_type": "code",
   "execution_count": null,
   "metadata": {
    "collapsed": false
   },
   "outputs": [],
   "source": [
    "sensor_filters = sbc.load_sensor_filters(join(base_path, 'sensor_filters'))\n",
    "sensor_filters.keys()"
   ]
  },
  {
   "cell_type": "code",
   "execution_count": null,
   "metadata": {
    "collapsed": false
   },
   "outputs": [],
   "source": [
    "for k,v in sensor_filters.items():\n",
    "    print(k, v[1].shape)"
   ]
  },
  {
   "cell_type": "code",
   "execution_count": null,
   "metadata": {
    "collapsed": false
   },
   "outputs": [],
   "source": [
    "sensor_filter = sensor_filters['ALOS']\n",
    "sensor_filter[1].shape"
   ]
  },
  {
   "cell_type": "code",
   "execution_count": null,
   "metadata": {
    "collapsed": false
   },
   "outputs": [],
   "source": [
    "plot_items.clear()\n",
    "add_sensor_filter_to_plot(sensor_filter)\n",
    "show_plot()"
   ]
  },
  {
   "cell_type": "markdown",
   "metadata": {},
   "source": [
    "### Load the substrates\n",
    "This example uses the load_all_spectral_libraries function to return a dictionary of everything found in a directory. We then retrieve the required substrates from the dictionary."
   ]
  },
  {
   "cell_type": "code",
   "execution_count": null,
   "metadata": {
    "collapsed": false
   },
   "outputs": [],
   "source": [
    "all_substrates = sbc.load_all_spectral_libraries(join(base_path, 'Substrates'))\n",
    "substrate1 = all_substrates['moreton_bay_speclib:white Sand']\n",
    "substrate2 = all_substrates['moreton_bay_speclib:brown Mud']"
   ]
  },
  {
   "cell_type": "markdown",
   "metadata": {},
   "source": [
    "Note that the sambuca_core spectral library loading functions return a dictionary of (band-centre wavelength, value) tuples. Thus substrate1 and substrate2 are tuples."
   ]
  },
  {
   "cell_type": "markdown",
   "metadata": {},
   "source": [
    "### Aphystar\n",
    "Here we load a single file, although we could have used the load_all_spectral_libraries approach with the same result.\n",
    "\n",
    "Note that although we specify a single file, a dictionary is still returned. This is for two reasons: consistency with the other functions, and because a single file may contain multiple spectra."
   ]
  },
  {
   "cell_type": "code",
   "execution_count": null,
   "metadata": {
    "collapsed": false
   },
   "outputs": [],
   "source": [
    "aphy_star = sbc.load_spectral_library(join(base_path, 'SIOP/WL08_aphy_1nm.hdr'))\\\n",
    "['wl08_aphy_1nm:WL08_aphy_star_mean_correct.csv:C2']"
   ]
  },
  {
   "cell_type": "markdown",
   "metadata": {},
   "source": [
    "### Awater"
   ]
  },
  {
   "cell_type": "code",
   "execution_count": null,
   "metadata": {
    "collapsed": false
   },
   "outputs": [],
   "source": [
    "awater = sbc.load_spectral_library(join(base_path, 'SIOP/aw_350_900_lw2002_1nm.csv')).popitem()[1]"
   ]
  },
  {
   "cell_type": "markdown",
   "metadata": {},
   "source": [
    "### Plot the SIOPS, just because we can :)"
   ]
  },
  {
   "cell_type": "code",
   "execution_count": null,
   "metadata": {
    "collapsed": false
   },
   "outputs": [],
   "source": [
    "# Leave awater out of the first plot\n",
    "plot_items.clear()\n",
    "plot_items.append(('s1', substrate1))\n",
    "plot_items.append(('s2', substrate2))\n",
    "plot_items.append(('aphy*', aphy_star))\n",
    "add_sensor_filter_to_plot(sensor_filter)\n",
    "show_plot()\n",
    "\n",
    "plot_items.append(('awater', awater))\n",
    "show_plot()"
   ]
  },
  {
   "cell_type": "markdown",
   "metadata": {},
   "source": [
    "# Define the objective function builder"
   ]
  },
  {
   "cell_type": "code",
   "execution_count": null,
   "metadata": {
    "collapsed": true
   },
   "outputs": [],
   "source": [
    "def make_objective(\n",
    "    awater,\n",
    "    wavelengths,\n",
    "    aphy_star,\n",
    "    substrate1,\n",
    "    substrate2,\n",
    "    sensor_filter, \n",
    "    obs_spectra, \n",
    "    p_bounds=None, \n",
    "    noise=None):\n",
    "    \n",
    "    num_modelled_bands = sensor_filter.shape[1]\n",
    "    num_observed_bands = sensor_filter.shape[0]\n",
    "            \n",
    "    def objective(p):\n",
    "        '''\n",
    "        Returns an objective score for the given parameter set.\n",
    "        \n",
    "        Args:\n",
    "            p (tuple): The parameter tuple (chl, cdom, nap, substrate_fraction, depth).\n",
    "        '''\n",
    "        # To support algorithms without support for boundary values, we assign a high \n",
    "        # score to out of range parameters. This may not be the best approach!!!\n",
    "        # p_bounds is a tuple of (min, max) pairs for each parameter in p\n",
    "        if p_bounds is not None:\n",
    "            for _p, lu in zip(p, p_bounds):\n",
    "                l, u = lu\n",
    "                if _p < l or _p > u:\n",
    "                    return 100000.0\n",
    "                    \n",
    "        # call the forward model, relying on the default values for other inputs\n",
    "        model_results = sbc.forward_model(\n",
    "            chl = p[0],\n",
    "            cdom = p[1],\n",
    "            nap = p[2],\n",
    "            depth = p[4],\n",
    "            substrate_fraction = p[3],\n",
    "            substrate1=substrate1,\n",
    "            substrate2=substrate2,\n",
    "            wavelengths=wav,\n",
    "            a_water=awater,\n",
    "            a_ph_star=aphy_star,\n",
    "            num_bands=num_modelled_bands)\n",
    "        \n",
    "        # Apply the sensor filter\n",
    "        filtered_spectra = sbc.apply_sensor_filter(model_results.rrs, sensor_filter)\n",
    "        \n",
    "        # Calculate the error and return it as the objective score\n",
    "        error = sbc.error_all(obs_spectra, filtered_spectra, noise)\n",
    "        \n",
    "        #return error.alpha\n",
    "        #return error.alpha_f\n",
    "        return error.f\n",
    "        #return error.lsq\n",
    "    \n",
    "    return objective"
   ]
  },
  {
   "cell_type": "code",
   "execution_count": null,
   "metadata": {
    "collapsed": true
   },
   "outputs": [],
   "source": []
  }
 ],
 "metadata": {
  "kernelspec": {
   "display_name": "Python 3",
   "language": "python",
   "name": "python3"
  },
  "language_info": {
   "codemirror_mode": {
    "name": "ipython",
    "version": 3
   },
   "file_extension": ".py",
   "mimetype": "text/x-python",
   "name": "python",
   "nbconvert_exporter": "python",
   "pygments_lexer": "ipython3",
   "version": "3.5.1"
  }
 },
 "nbformat": 4,
 "nbformat_minor": 0
}
