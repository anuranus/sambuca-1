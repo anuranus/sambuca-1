{
 "metadata": {
  "name": "",
  "signature": "sha256:93f638ab1fa75408fe0bdc79e6388fef836e773820a3e28b3c678469fa512425"
 },
 "nbformat": 3,
 "nbformat_minor": 0,
 "worksheets": [
  {
   "cells": [
    {
     "cell_type": "markdown",
     "metadata": {},
     "source": [
      "# Tests with the new Quickbird data from Steve"
     ]
    },
    {
     "cell_type": "markdown",
     "metadata": {},
     "source": [
      "## Set up the environment:"
     ]
    },
    {
     "cell_type": "code",
     "collapsed": false,
     "input": [
      "%matplotlib inline\n",
      "import numpy as np\n",
      "from scipy.optimize import minimize, basinhopping\n",
      "import sambuca as sb\n",
      "import matplotlib.pyplot as plt\n",
      "from pkg_resources import resource_filename\n",
      "from scipy.io import loadmat\n",
      "import spectral as sp\n",
      "\n",
      "# set some controls on numpy formatting\n",
      "# 5 decimal places, suppress scientific notation\n",
      "np.set_printoptions(precision=5, suppress=True)\n",
      "\n",
      "# set the matplotlib style to emulate ggplot2 from R\n",
      "plt.style.use('ggplot')\n",
      "plot_width = 12\n",
      "plot_height = plot_width * 3/4\n",
      "\n",
      "# spectra to plot\n",
      "plot_items = list()"
     ],
     "language": "python",
     "metadata": {},
     "outputs": [],
     "prompt_number": 12
    },
    {
     "cell_type": "markdown",
     "metadata": {},
     "source": [
      "## Set up the input data:"
     ]
    },
    {
     "cell_type": "code",
     "collapsed": false,
     "input": [
      "%cd ../QBdata\n",
      "%ls"
     ],
     "language": "python",
     "metadata": {},
     "outputs": [
      {
       "output_type": "stream",
       "stream": "stdout",
       "text": [
        "/home/daniel/code/sambuca_project/sambuca/reference/QBdata\n",
        "FullResSpec.hdr   FullResSpec.txt        QBFilter350_900nm.txt  QBSpec0_001Noise.txt  QBSpecNoNoise.txt\r\n",
        "\u001b[0m\u001b[01;32mFullResSpec.lib\u001b[0m*  QBFilter350_900nm.hdr  QBSpec0_001Noise.hdr   QBSpecNoNoise.hdr     readme.docx\r\n"
       ]
      }
     ],
     "prompt_number": 21
    },
    {
     "cell_type": "markdown",
     "metadata": {},
     "source": [
      "Test reading the ENVI hdr files, first with gdal and then with Spectral Python."
     ]
    },
    {
     "cell_type": "code",
     "collapsed": false,
     "input": [
      "from osgeo import gdal\n",
      "fullresspec_gdal = gdal.Open('FullResSpec.lib')\n",
      "print(fullresspec_gdal)"
     ],
     "language": "python",
     "metadata": {},
     "outputs": [
      {
       "output_type": "stream",
       "stream": "stdout",
       "text": [
        "None\n"
       ]
      }
     ],
     "prompt_number": 17
    },
    {
     "cell_type": "code",
     "collapsed": false,
     "input": [
      "import spectral.io.envi as envi\n",
      "fullresspec_sp = envi.open('FullResSpec.hdr','FullResSpec.lib')\n",
      "#fullresspec_sp = sp.open_image('FullResSpec.lib')\n",
      "print(type(fullresspec_sp))\n",
      "dir(fullresspec_sp)"
     ],
     "language": "python",
     "metadata": {},
     "outputs": [
      {
       "output_type": "stream",
       "stream": "stdout",
       "text": [
        "<class 'spectral.io.envi.SpectralLibrary'>\n"
       ]
      },
      {
       "metadata": {},
       "output_type": "pyout",
       "prompt_number": 29,
       "text": [
        "['__class__',\n",
        " '__delattr__',\n",
        " '__dict__',\n",
        " '__dir__',\n",
        " '__doc__',\n",
        " '__eq__',\n",
        " '__format__',\n",
        " '__ge__',\n",
        " '__getattribute__',\n",
        " '__gt__',\n",
        " '__hash__',\n",
        " '__init__',\n",
        " '__le__',\n",
        " '__lt__',\n",
        " '__module__',\n",
        " '__ne__',\n",
        " '__new__',\n",
        " '__reduce__',\n",
        " '__reduce_ex__',\n",
        " '__repr__',\n",
        " '__setattr__',\n",
        " '__sizeof__',\n",
        " '__str__',\n",
        " '__subclasshook__',\n",
        " '__weakref__',\n",
        " 'bands',\n",
        " 'metadata',\n",
        " 'names',\n",
        " 'params',\n",
        " 'save',\n",
        " 'spectra']"
       ]
      }
     ],
     "prompt_number": 29
    },
    {
     "cell_type": "code",
     "collapsed": false,
     "input": [],
     "language": "python",
     "metadata": {},
     "outputs": []
    }
   ],
   "metadata": {}
  }
 ]
}