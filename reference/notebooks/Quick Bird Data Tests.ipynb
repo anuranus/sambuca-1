{
 "metadata": {
  "name": "",
  "signature": "sha256:4f9b837ea6e7baff3af94a1f5a5a52a4dd3860a336713f90dde4b764da64a775"
 },
 "nbformat": 3,
 "nbformat_minor": 0,
 "worksheets": [
  {
   "cells": [
    {
     "cell_type": "markdown",
     "metadata": {},
     "source": [
      "# Workflow Summary\n",
      "* Load data\n",
      "* Choose initial parameters\n",
      "* Choose parameter bounds\n",
      "* Define an objective function\n",
      "    * artificial bounds\n",
      "    * run forward model\n",
      "    * apply sensor filter to modeled spectra\n",
      "    * calculate closure/error\n",
      "* Build objective function closure, binding specific values\n",
      "* Minimisation step\n",
      "* Run forward model on retrieved parameters\n",
      "* Plot results"
     ]
    },
    {
     "cell_type": "markdown",
     "metadata": {},
     "source": [
      "# Utility Functions"
     ]
    },
    {
     "cell_type": "code",
     "collapsed": false,
     "input": [
      "# spectra to plot\n",
      "plot_items = list()\n",
      "\n",
      "def print_spectral_library(lib):\n",
      "    #print(dir(lib))\n",
      "    print(\"Named Bands:\")\n",
      "    for band_name in lib.names:\n",
      "        print(\"\\t\" + band_name)\n",
      "    print(\"Data dimensions: \" + str(lib.spectra.shape))\n",
      "    #print(\"Available Metadata:\")\n",
      "    #for key in lib.metadata:\n",
      "    #    print(\"\\t\" + key)\n",
      "        \n",
      "        \n",
      "def plot_spectra(plot_items, band_centers):\n",
      "    plt.figure(figsize=(plot_width, plot_height))\n",
      "    for pi in plot_items:\n",
      "        plt.plot(band_centers, pi[0], label=pi[1])\n",
      "\n",
      "    # set the X axis range\n",
      "    plt.xlim(np.min(band_centers), np.max(band_centers))\n",
      "            \n",
      "    plt.legend(loc='upper right')\n",
      "    plt.show()\n",
      "    \n",
      "    \n",
      "def print_parameters(p):\n",
      "    print('CHL:  {0:10.5f}\\nCDOM: {1:10.5f}\\nTR:   {2:10.5f}\\nH:    {3:10.5f}\\nQ:    {4:10.5f}'\n",
      "          .format(p[0],p[1],p[2],p[4],p[3]))\n",
      "    \n",
      "\n",
      "def evaluate_forward_model(p, siops, sensor_filter):\n",
      "    spectra = sb.forward_model(\n",
      "        chl = p[0],\n",
      "        cdom = p[1],\n",
      "        tr = p[2],\n",
      "        h = p[4],\n",
      "        q = p[3],\n",
      "        substrate1=siops['substrate1'],\n",
      "        substrate2=siops['substrate2'],\n",
      "        wav=siops['wav'],\n",
      "        awater=siops['awater'],\n",
      "        aphy_star=siops['aphy_star'],\n",
      "        num_bands=siops['d_wls'])\n",
      "        \n",
      "    if sensor_filter is not None:\n",
      "        # Apply the sensor filter and return the results\n",
      "        return sb.apply_sensor_filter(spectra, sensor_filter)\n",
      "    else:\n",
      "        return spectra"
     ],
     "language": "python",
     "metadata": {},
     "outputs": []
    },
    {
     "cell_type": "markdown",
     "metadata": {},
     "source": [
      "# Load Data\n",
      "## Load the sambuca model inputs (SIOPS)"
     ]
    },
    {
     "cell_type": "code",
     "collapsed": false,
     "input": [
      "filename = resource_filename(\n",
      "            sb.__name__,\n",
      "            'tests/data/forwardModelTestValues.mat')\n",
      "siops_data = loadmat(filename, squeeze_me=True)\n",
      "print(siops_data.keys())\n",
      "\n",
      "filename = resource_filename(\n",
      "            sb.__name__,\n",
      "            'tests/data/test_resample.mat')\n",
      "sensor_data = loadmat(filename, squeeze_me=True)\n",
      "print()\n",
      "print(sensor_data.keys())\n",
      "\n",
      "print()\n",
      "print(sensor_data['filt'].shape)"
     ],
     "language": "python",
     "metadata": {},
     "outputs": []
    },
    {
     "cell_type": "markdown",
     "metadata": {},
     "source": [
      "## Load the Quickbird data:"
     ]
    },
    {
     "cell_type": "code",
     "collapsed": false,
     "input": [
      "%cd reference/QBdata/"
     ],
     "language": "python",
     "metadata": {},
     "outputs": []
    },
    {
     "cell_type": "code",
     "collapsed": false,
     "input": [
      "fullresspec = envi.open('FullResSpec.hdr','FullResSpec.lib')\n",
      "print_spectral_library(fullresspec)"
     ],
     "language": "python",
     "metadata": {},
     "outputs": []
    },
    {
     "cell_type": "markdown",
     "metadata": {},
     "source": [
      "Grab the spectral data as a numpy array, and plot it to make sure it looks OK:"
     ]
    },
    {
     "cell_type": "code",
     "collapsed": false,
     "input": [
      "fullres_spectra = fullresspec.spectra[0]\n",
      "plot_items.clear()\n",
      "plot_items.append((fullres_spectra, 'Full-res'))\n",
      "plot_spectra(plot_items, fullresspec.bands.centers)"
     ],
     "language": "python",
     "metadata": {},
     "outputs": []
    },
    {
     "cell_type": "markdown",
     "metadata": {},
     "source": [
      "Load the Quickbird sensor filter:"
     ]
    },
    {
     "cell_type": "code",
     "collapsed": false,
     "input": [
      "qbfilter = envi.open('QBFilter350_900nm.hdr','QBFilter350_900nm.lib')\n",
      "print_spectral_library(qbfilter)"
     ],
     "language": "python",
     "metadata": {},
     "outputs": []
    },
    {
     "cell_type": "code",
     "collapsed": false,
     "input": [
      "plot_items.clear()\n",
      "i = 0\n",
      "for band in qbfilter.names:\n",
      "    plot_items.append((qbfilter.spectra[i], band))\n",
      "    i = i + 1\n",
      "    \n",
      "plot_spectra(plot_items,qbfilter.bands.centers)"
     ],
     "language": "python",
     "metadata": {},
     "outputs": []
    },
    {
     "cell_type": "markdown",
     "metadata": {},
     "source": [
      "Load the two target spectra, one generated with noise and one without:"
     ]
    },
    {
     "cell_type": "code",
     "collapsed": false,
     "input": [
      "targetspec_nonoise = envi.open('QBSpecNoNoise.hdr','QBSpecNoNoise.lib')\n",
      "print_spectral_library(targetspec_nonoise)"
     ],
     "language": "python",
     "metadata": {},
     "outputs": []
    },
    {
     "cell_type": "code",
     "collapsed": false,
     "input": [
      "targetspec_noise = envi.open('QBSpec0_001Noise.hdr','QBSpec0_001Noise.lib')\n",
      "print_spectral_library(targetspec_noise)"
     ],
     "language": "python",
     "metadata": {},
     "outputs": []
    },
    {
     "cell_type": "code",
     "collapsed": false,
     "input": [
      "plot_items.clear()\n",
      "plot_items.append((targetspec_nonoise.spectra[0], 'No Noise'))\n",
      "plot_items.append((targetspec_noise.spectra[0], 'With Noise'))\n",
      "plot_spectra(plot_items, targetspec_nonoise.bands.centers)"
     ],
     "language": "python",
     "metadata": {},
     "outputs": []
    },
    {
     "cell_type": "markdown",
     "metadata": {},
     "source": [
      "# Initial Parameters and Bounds"
     ]
    },
    {
     "cell_type": "markdown",
     "metadata": {},
     "source": [
      "Load the parameter ranges from our test data"
     ]
    },
    {
     "cell_type": "code",
     "collapsed": false,
     "input": [
      "filename = resource_filename(\n",
      "            sb.__name__,\n",
      "            'tests/data/test_optimise_data.mat')\n",
      "data = loadmat(filename, squeeze_me=True)\n",
      "\n",
      "p_min = data['p_min']\n",
      "p_max = data['p_max']\n",
      "\n",
      "#p_min and p_max have already been defined in previous cells (read from test data)\n",
      "# random parameters often lead to a tougher optimisation challenge\n",
      "p0_rand = np.random.random(5) * (p_max - p_min) + p_min\n",
      "\n",
      "# Parameters known to lead Nelder-Mead astray:\n",
      "#p0 = np.array([0.13959, 0.00361,  0.73770,  0.07821,  0.02446])\n",
      "\n",
      "# Semi-reasonable first guess:\n",
      "p0 = np.array([0.093, 0.013,  1.088,  0.815, 7.282])\n",
      "\n",
      "# Very good first guess:\n",
      "#p0 = np.array([0.145, 0.007,  0.25,  0.2, 7.45])\n",
      "\n",
      "#p0 = p0_rand\n",
      "\n",
      "print(\"Initial Parameters\\n\")\n",
      "print_parameters(p0)\n",
      "\n",
      "# repackage p_min and p_max into the tuple of (min,max) pairs expected by our objective function,\n",
      "# and by the minimisation methods that support bounds\n",
      "p_bounds = tuple(zip(p_min, p_max))\n",
      "print('\\nBounds = {}'.format(p_bounds))"
     ],
     "language": "python",
     "metadata": {},
     "outputs": []
    },
    {
     "cell_type": "markdown",
     "metadata": {},
     "source": [
      "#Objective Function\n",
      "Define an objective builder that assembles sambuca components (forward model, sensor filter, error function), using a closure to bind the other inputs:"
     ]
    },
    {
     "cell_type": "code",
     "collapsed": false,
     "input": [
      "def make_objective(siops, sensor_filter, obs_spectra, p_bounds=None, noise=None):\n",
      "    awater = siops['awater']\n",
      "    wav = siops['wav']\n",
      "    aphy_star = siops['aphy_star']\n",
      "    substrate1 = siops['substrate1']\n",
      "    substrate2 = siops['substrate2']\n",
      "    num_modelled_bands = sensor_filter.shape[0]\n",
      "    num_observed_bands = sensor_filter.shape[1]\n",
      "            \n",
      "    def objective(p):\n",
      "        # To support algorithms without support for boundary values, we assign a high \n",
      "        # score to out of range parameters.\n",
      "        # p_bounds is a tuple of (min, max) pairs for each parameter in p\n",
      "        if p_bounds is not None:\n",
      "            for _p, lu in zip(p, p_bounds):\n",
      "                l, u = lu\n",
      "                if _p < l or _p > u:\n",
      "                    return 100000.0\n",
      "                    \n",
      "        # call the forward model\n",
      "        # We rely on the default values of the other model inputs, which happen to be\n",
      "        # the same values used in the Matlab code\n",
      "        spectra = sb.forward_model(\n",
      "            chl = p[0],\n",
      "            cdom = p[1],\n",
      "            tr = p[2],\n",
      "            h = p[4],\n",
      "            q = p[3],\n",
      "            substrate1=substrate1,\n",
      "            substrate2=substrate2,\n",
      "            wav=wav,\n",
      "            awater=awater,\n",
      "            aphy_star=aphy_star,\n",
      "            num_bands=num_modelled_bands)\n",
      "        \n",
      "        # Apply the sensor filter\n",
      "        filtered_spectra = sb.apply_sensor_filter(spectra, sensor_filter)\n",
      "        \n",
      "        # Calculate the error and return it as the objective score\n",
      "        error = sb.error_all(obs_spectra, filtered_spectra, noise)\n",
      "        \n",
      "        #return error.distance_alpha\n",
      "        #return error.distance_alpha_f\n",
      "        return error.distance_f\n",
      "        #return error.distance_lsq\n",
      "        #return error.error_af\n",
      "    \n",
      "    return objective"
     ],
     "language": "python",
     "metadata": {},
     "outputs": []
    },
    {
     "cell_type": "markdown",
     "metadata": {},
     "source": [
      "Define objective functions with noise and without:"
     ]
    },
    {
     "cell_type": "code",
     "collapsed": false,
     "input": [
      "# for this test data, Steve used a constant noise of 0.001\n",
      "noise = 0.001\n",
      "#noise = None\n",
      "\n",
      "# we need to transpose the sensor filter. Check whether the code is correct and qbfilter is wrong, \n",
      "# or if the code should change to expect the filter in the transposed shape\n",
      "sensor_filter = qbfilter.spectra.transpose()\n",
      "\n",
      "obj_bounded = make_objective(\n",
      "        siops_data, \n",
      "        sensor_filter,\n",
      "        targetspec_noise.spectra[0], \n",
      "        p_bounds,\n",
      "        noise)\n",
      "\n",
      "obj_unbounded = make_objective(\n",
      "        siops_data, \n",
      "        sensor_filter,\n",
      "        targetspec_nonoise.spectra[0], \n",
      "        p_bounds=None,\n",
      "        noise=noise)"
     ],
     "language": "python",
     "metadata": {},
     "outputs": []
    },
    {
     "cell_type": "markdown",
     "metadata": {},
     "source": [
      "# Invert the model (parameter estimation)"
     ]
    },
    {
     "cell_type": "markdown",
     "metadata": {},
     "source": [
      "## Nelder-Mead method:"
     ]
    },
    {
     "cell_type": "code",
     "collapsed": false,
     "input": [
      "res_nm = minimize(obj_bounded, p0, method='nelder-mead', \n",
      "                  options={'xtol':1e-5, 'disp':True, 'maxiter':50000})\n",
      "p_nm = res_nm['x']\n",
      "print_parameters(p_nm)\n",
      "nm_spectra = evaluate_forward_model(p_nm, siops_data, sensor_filter)\n",
      "nm_spectra_full = evaluate_forward_model(p_nm, siops_data, None)"
     ],
     "language": "python",
     "metadata": {},
     "outputs": []
    },
    {
     "cell_type": "markdown",
     "metadata": {},
     "source": [
      "## Sequential Least-Squares"
     ]
    },
    {
     "cell_type": "code",
     "collapsed": false,
     "input": [
      "res_slsqp = minimize(obj_unbounded, p0, method='SLSQP', bounds=p_bounds, \n",
      "                     options={'disp':True, 'maxiter':20000})\n",
      "p_slsqp = res_slsqp['x']\n",
      "print_parameters(p_slsqp)\n",
      "slsqp_spectra = evaluate_forward_model(p_slsqp, siops_data, sensor_filter)\n",
      "slsqp_spectra_full = evaluate_forward_model(p_slsqp, siops_data, None)"
     ],
     "language": "python",
     "metadata": {},
     "outputs": []
    },
    {
     "cell_type": "markdown",
     "metadata": {},
     "source": [
      "#Plot the results"
     ]
    },
    {
     "cell_type": "code",
     "collapsed": false,
     "input": [
      "p0_spectra = evaluate_forward_model(p0, siops_data, sensor_filter)\n",
      "p0_spectra_full = evaluate_forward_model(p0, siops_data, None)"
     ],
     "language": "python",
     "metadata": {},
     "outputs": []
    },
    {
     "cell_type": "markdown",
     "metadata": {},
     "source": [
      "## Filtered Spectra"
     ]
    },
    {
     "cell_type": "code",
     "collapsed": false,
     "input": [
      "plot_items.clear()\n",
      "#plot_items.append((targetspec_nonoise.spectra[0], 'Target'))\n",
      "plot_items.append((targetspec_noise.spectra[0], 'Target'))\n",
      "plot_items.append((nm_spectra, 'Nelder-Mead'))\n",
      "plot_items.append((slsqp_spectra, 'Seq Least-Squares'))\n",
      "plot_items.append((p0_spectra, 'p0'))\n",
      "plot_spectra(plot_items, targetspec_noise.bands.centers)"
     ],
     "language": "python",
     "metadata": {},
     "outputs": []
    },
    {
     "cell_type": "markdown",
     "metadata": {},
     "source": [
      "##Full Spectra"
     ]
    },
    {
     "cell_type": "code",
     "collapsed": false,
     "input": [
      "plot_items.clear()\n",
      "#plot_items.append((targetspec_nonoise.spectra[0], 'Target'))\n",
      "plot_items.append((fullres_spectra, 'Target'))\n",
      "plot_items.append((nm_spectra_full, 'Nelder-Mead'))\n",
      "plot_items.append((slsqp_spectra_full, 'Seq Least-Squares'))\n",
      "plot_items.append((p0_spectra_full, 'p0'))\n",
      "plot_spectra(plot_items, fullresspec.bands.centers)"
     ],
     "language": "python",
     "metadata": {},
     "outputs": []
    }
   ],
   "metadata": {}
  }
 ]
}