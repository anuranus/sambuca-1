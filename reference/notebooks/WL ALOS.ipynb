{
 "metadata": {
  "name": "",
  "signature": "sha256:083db10858e6b78582c018a76a3a5b7c325e3ab60d6963535ff3b060d08f48b4"
 },
 "nbformat": 3,
 "nbformat_minor": 0,
 "worksheets": [
  {
   "cells": [
    {
     "cell_type": "markdown",
     "metadata": {},
     "source": [
      "# Workflow Summary\n",
      "* Set up environment\n",
      "* Load data\n",
      "* Choose initial parameters\n",
      "* Choose parameter bounds\n",
      "* Define an objective function\n",
      "    * artificial bounds\n",
      "    * run forward model\n",
      "    * apply sensor filter to modeled spectra\n",
      "    * calculate closure/error\n",
      "* Build objective function closure, binding specific values\n",
      "* Minimisation step\n",
      "* Run forward model on retrieved parameters\n",
      "* Plot results"
     ]
    },
    {
     "cell_type": "markdown",
     "metadata": {},
     "source": [
      "# Set up the environment:"
     ]
    },
    {
     "cell_type": "code",
     "collapsed": false,
     "input": [
      "%matplotlib inline\n",
      "import numpy as np\n",
      "from scipy.optimize import minimize, basinhopping\n",
      "import sambuca as sb\n",
      "import matplotlib.pyplot as plt\n",
      "from pkg_resources import resource_filename\n",
      "from scipy.io import loadmat\n",
      "import spectral as sp\n",
      "import spectral.io.envi as envi\n",
      "import ipdb\n",
      "\n",
      "# set some controls on numpy formatting\n",
      "# 5 decimal places, suppress scientific notation\n",
      "np.set_printoptions(precision=5, suppress=True)\n",
      "\n",
      "# set the matplotlib style to emulate ggplot2 from R\n",
      "plt.style.use('ggplot')\n",
      "plot_width = 9\n",
      "plot_height = plot_width * 3/4\n",
      "\n",
      "# spectra to plot\n",
      "plot_items = list()"
     ],
     "language": "python",
     "metadata": {},
     "outputs": []
    },
    {
     "cell_type": "code",
     "collapsed": false,
     "input": [
      "# enable mpld3 library for interactive plots\n",
      "#from mpld3 import enable_notebook\n",
      "#enable_notebook()"
     ],
     "language": "python",
     "metadata": {},
     "outputs": []
    },
    {
     "cell_type": "markdown",
     "metadata": {},
     "source": [
      "# Utility Functions"
     ]
    },
    {
     "cell_type": "code",
     "collapsed": false,
     "input": [
      "def print_spectral_library(lib):\n",
      "    #print(dir(lib))\n",
      "    print(\"Named Bands:\")\n",
      "    for band_name in lib.names:\n",
      "        print(\"\\t\" + band_name)\n",
      "    print(\"Data dimensions: \" + str(lib.spectra.shape))\n",
      "    #print(\"Available Metadata:\")\n",
      "    #for key in lib.metadata:\n",
      "    #    print(\"\\t\" + key)\n",
      "        \n",
      "        \n",
      "def plot_spectra(plot_items, band_centers):\n",
      "    plt.figure(figsize=(plot_width, plot_height))\n",
      "    for pi in plot_items:\n",
      "        plt.plot(band_centers, pi[0], label=pi[1])\n",
      "\n",
      "    # set the X axis range\n",
      "    plt.xlim(np.min(band_centers), np.max(band_centers))\n",
      "            \n",
      "    plt.legend(loc='upper right')\n",
      "    plt.show()\n",
      "    \n",
      "    \n",
      "def print_parameters(p):\n",
      "    print('CHL:  {0:10.5f}\\nCDOM: {1:10.5f}\\nTR:   {2:10.5f}\\nH:    {3:10.5f}\\nQ:    {4:10.5f}'\n",
      "          .format(p[0],p[1],p[2],p[4],p[3]))\n",
      "    \n",
      "\n",
      "def evaluate_forward_model(p, siops, sensor_filter):\n",
      "    spectra = sb.forward_model(\n",
      "        chl = p[0],\n",
      "        cdom = p[1],\n",
      "        tr = p[2],\n",
      "        h = p[4],\n",
      "        q = p[3],\n",
      "        substrate1=siops['substrate1'],\n",
      "        substrate2=siops['substrate2'],\n",
      "        wav=siops['wav'],\n",
      "        awater=siops['awater'],\n",
      "        aphy_star=siops['aphy_star'],\n",
      "        num_bands=siops['d_wls'])\n",
      "        \n",
      "    if sensor_filter is not None:\n",
      "        # Apply the sensor filter and return the results\n",
      "        return sb.apply_sensor_filter(spectra, sensor_filter)\n",
      "    else:\n",
      "        return spectra"
     ],
     "language": "python",
     "metadata": {},
     "outputs": []
    },
    {
     "cell_type": "markdown",
     "metadata": {},
     "source": [
      "# Load Data\n",
      "## Load the sambuca model inputs (SIOPS)"
     ]
    },
    {
     "cell_type": "code",
     "collapsed": false,
     "input": [
      "filename = resource_filename(\n",
      "            sb.__name__,\n",
      "            'tests/data/forwardModelTestValues.mat')\n",
      "siops_data = loadmat(filename, squeeze_me=True)\n",
      "print(siops_data.keys())\n",
      "\n",
      "filename = resource_filename(\n",
      "            sb.__name__,\n",
      "            'tests/data/test_resample.mat')\n",
      "sensor_data = loadmat(filename, squeeze_me=True)\n",
      "print()\n",
      "print(sensor_data.keys())\n",
      "\n",
      "print()\n",
      "print(sensor_data['filt'].shape)"
     ],
     "language": "python",
     "metadata": {},
     "outputs": []
    },
    {
     "cell_type": "markdown",
     "metadata": {},
     "source": [
      "## Load the data:"
     ]
    },
    {
     "cell_type": "code",
     "collapsed": false,
     "input": [
      "%cd ../wl_alos_data/inputs/\n",
      "%ls"
     ],
     "language": "python",
     "metadata": {},
     "outputs": []
    },
    {
     "cell_type": "code",
     "collapsed": false,
     "input": [
      "# load what I think is the noise\n",
      "noise = envi.open('WL_ALOS_NEDR_0_4bands.hdr','WL_ALOS_NEDR_0_4bands.lib')\n",
      "print_spectral_library(noise)\n",
      "\n",
      "plot_items.clear()\n",
      "plot_items.append((noise.spectra[0], noise.names[0]))\n",
      "plot_spectra(plot_items, noise.bands.centers)"
     ],
     "language": "python",
     "metadata": {},
     "outputs": []
    },
    {
     "cell_type": "markdown",
     "metadata": {},
     "source": [
      "Grab the spectral data as a numpy array, and plot it to make sure it looks OK:"
     ]
    },
    {
     "cell_type": "code",
     "collapsed": false,
     "input": [
      "# load the sub120 stuff\n",
      "sub120 = envi.open('WL_ALOS_R_0_sub120.hdr', 'WL_ALOS_R_0_sub120.img')\n",
      "print(sub120)\n",
      "print('\\n')\n",
      "sp.imshow(sub120, (0,1,2))"
     ],
     "language": "python",
     "metadata": {},
     "outputs": []
    },
    {
     "cell_type": "code",
     "collapsed": false,
     "input": [
      "md = {'lines':120,\n",
      "      'samples':120,\n",
      "      'interleave': 'bil',\n",
      "      'bands':4}\n",
      "out = envi.create_image('test.hdr', md, dtype=np.float32, force=True)\n",
      "mm = out.open_memmap(interleave='bsq', writable=True)\n",
      "#print(out)\n",
      "sp.imshow(out)"
     ],
     "language": "python",
     "metadata": {},
     "outputs": []
    },
    {
     "cell_type": "markdown",
     "metadata": {},
     "source": [
      "Load the Quickbird sensor filter:"
     ]
    },
    {
     "cell_type": "code",
     "collapsed": false,
     "input": [
      "qbfilter = envi.open('../../QBdata/QBFilter350_900nm.hdr','../../QBdata/QBFilter350_900nm.lib')\n",
      "print_spectral_library(qbfilter)"
     ],
     "language": "python",
     "metadata": {},
     "outputs": []
    },
    {
     "cell_type": "markdown",
     "metadata": {},
     "source": [
      "Do a quick plot of the sensor filter, just to make sure it looks OK"
     ]
    },
    {
     "cell_type": "code",
     "collapsed": false,
     "input": [
      "plot_items.clear()\n",
      "i = 0\n",
      "for band in qbfilter.names:\n",
      "    plot_items.append((qbfilter.spectra[i], band))\n",
      "    i = i + 1\n",
      "    \n",
      "plot_spectra(plot_items,qbfilter.bands.centers)"
     ],
     "language": "python",
     "metadata": {},
     "outputs": []
    },
    {
     "cell_type": "markdown",
     "metadata": {},
     "source": [
      "# Initial Parameters and Bounds"
     ]
    },
    {
     "cell_type": "markdown",
     "metadata": {},
     "source": [
      "Load the parameter ranges from our test data"
     ]
    },
    {
     "cell_type": "code",
     "collapsed": false,
     "input": [
      "filename = resource_filename(\n",
      "            sb.__name__,\n",
      "            'tests/data/test_optimise_data.mat')\n",
      "data = loadmat(filename, squeeze_me=True)\n",
      "\n",
      "p_min = data['p_min']\n",
      "p_max = data['p_max']\n",
      "\n",
      "#p_min and p_max have already been defined in previous cells (read from test data)\n",
      "# random parameters often lead to a tougher optimisation challenge\n",
      "p0_rand = np.random.random(5) * (p_max - p_min) + p_min\n",
      "\n",
      "# Parameters known to lead Nelder-Mead astray:\n",
      "p0_bad = np.array([0.13959, 0.00361,  0.73770,  0.07821,  0.02446])\n",
      "\n",
      "# Semi-reasonable first guess:\n",
      "p0_ok = np.array([0.093, 0.013,  1.088,  0.815, 7.282])\n",
      "\n",
      "# repackage p_min and p_max into the tuple of (min,max) pairs expected by our objective function,\n",
      "# and by the minimisation methods that support bounds\n",
      "p_bounds = tuple(zip(p_min, p_max))\n",
      "print('\\nBounds = {}'.format(p_bounds))"
     ],
     "language": "python",
     "metadata": {},
     "outputs": []
    },
    {
     "cell_type": "markdown",
     "metadata": {},
     "source": [
      "#Objective Function\n",
      "Define an objective builder that assembles sambuca components (forward model, sensor filter, error function), using a closure to bind the other inputs.\n",
      "\n",
      "**TODO** Decide whether it is more efficient to create a new objective function for each pixel, or to use an objective class with a __call__ method. The class object can be called just like the objective function, but it only needs to be created once and can have properties to indicate the current pixel.\n",
      "\n",
      "## Note to self/design idea\n",
      "A high level Sambuca class could work as follows:\n",
      "* constructor arguments\n",
      "    * observed spectra\n",
      "    * Sensor filter\n",
      "    * optional pixel range to calculate. default is all pixels\n",
      "    * the error function\n",
      "    * a way to specify the outputs\n",
      "        * what about a writer pattern? When creating a Sambuca object, you simply pass in a PixelWriter function. It gets called with the final parameters and other data. This can then be used to keep the output handling separate from the parameter estimation code."
     ]
    },
    {
     "cell_type": "code",
     "collapsed": false,
     "input": [
      "def make_objective(siops, sensor_filter, obs_spectra, p_bounds=None, noise=None):\n",
      "    awater = siops['awater']\n",
      "    wav = siops['wav']\n",
      "    aphy_star = siops['aphy_star']\n",
      "    substrate1 = siops['substrate1']\n",
      "    substrate2 = siops['substrate2']\n",
      "    num_modelled_bands = sensor_filter.shape[1]\n",
      "    num_observed_bands = sensor_filter.shape[0]\n",
      "            \n",
      "    def objective(p):\n",
      "        # To support algorithms without support for boundary values, we assign a high \n",
      "        # score to out of range parameters.\n",
      "        # p_bounds is a tuple of (min, max) pairs for each parameter in p\n",
      "        if p_bounds is not None:\n",
      "            for _p, lu in zip(p, p_bounds):\n",
      "                l, u = lu\n",
      "                if _p < l or _p > u:\n",
      "                    return 100000.0\n",
      "                    \n",
      "        # call the forward model\n",
      "        # We rely on the default values of the other model inputs, which happen to be\n",
      "        # the same values used in the Matlab code\n",
      "        spectra = sb.forward_model(\n",
      "            chl = p[0],\n",
      "            cdom = p[1],\n",
      "            tr = p[2],\n",
      "            h = p[4],\n",
      "            q = p[3],\n",
      "            substrate1=substrate1,\n",
      "            substrate2=substrate2,\n",
      "            wav=wav,\n",
      "            awater=awater,\n",
      "            aphy_star=aphy_star,\n",
      "            num_bands=num_modelled_bands)\n",
      "        \n",
      "        # Apply the sensor filter\n",
      "        filtered_spectra = sb.apply_sensor_filter(spectra, sensor_filter)\n",
      "        \n",
      "        # Calculate the error and return it as the objective score\n",
      "        error = sb.error_all(obs_spectra, filtered_spectra, noise)\n",
      "        \n",
      "        #return error.distance_alpha\n",
      "        #return error.distance_alpha_f\n",
      "        return error.distance_f\n",
      "        #return error.distance_lsq\n",
      "        #return error.error_af\n",
      "    \n",
      "    return objective"
     ],
     "language": "python",
     "metadata": {},
     "outputs": []
    },
    {
     "cell_type": "markdown",
     "metadata": {},
     "source": [
      "# Iterate the pixels and run Sambuca on each one"
     ]
    },
    {
     "cell_type": "markdown",
     "metadata": {},
     "source": [
      "##algorithm\n",
      "* Create data structures to hold all the outputs\n",
      "* for each pixel:\n",
      "    * get an objective function that passes the current pixel values as the observed spectra\n",
      "    * run the minimiser\n",
      "    * save the required outputs\n",
      "* plot or save the outputs"
     ]
    },
    {
     "cell_type": "markdown",
     "metadata": {},
     "source": [
      "## Test on single pixel"
     ]
    },
    {
     "cell_type": "code",
     "collapsed": true,
     "input": [
      "# get the data ready\n",
      "x = 1\n",
      "y = 0\n",
      "obs_spectra = sub120.read_pixel(x, y)\n",
      "sensor_filter = qbfilter.spectra\n",
      "noise_spectra = noise.spectra\n",
      "p0 = p0_ok\n",
      "\n",
      "objective = make_objective(\n",
      "        siops_data, \n",
      "        sensor_filter,\n",
      "        obs_spectra,\n",
      "        p_bounds=None,\n",
      "        noise=noise_spectra)\n",
      "\n",
      "result = minimize(\n",
      "            objective, \n",
      "            p0, \n",
      "            method='SLSQP', \n",
      "            bounds=p_bounds, \n",
      "            options={'disp':True, 'maxiter':20000})\n",
      "\n",
      "p = result['x']\n",
      "print_parameters(p)\n",
      "closed_spectra = evaluate_forward_model(p, siops_data, sensor_filter)\n",
      "\n",
      "plot_items.clear()\n",
      "plot_items.append((closed_spectra, 'Closed Spectra'))\n",
      "plot_items.append((obs_spectra, 'Observed Spectra'))\n",
      "plot_spectra(plot_items, sub120.bands.centers)"
     ],
     "language": "python",
     "metadata": {},
     "outputs": []
    },
    {
     "cell_type": "markdown",
     "metadata": {},
     "source": [
      "## First-pass loop with single substrate pair"
     ]
    },
    {
     "cell_type": "code",
     "collapsed": false,
     "input": [
      "# get the data ready\n",
      "sensor_filter = qbfilter.spectra\n",
      "noise_spectra = noise.spectra\n",
      "p0 = p0_ok\n",
      "\n",
      "# output the closed spectra \n",
      "md = {'lines':120,\n",
      "      'samples':120,\n",
      "      'interleave': 'bip',\n",
      "      'bands':4}\n",
      "closed_spectra = envi.create_image('closed.hdr', md, dtype=np.float32, force=True)\n",
      "csmm = out.open_memmap(interleave='bip', writable=True)\n",
      "\n",
      "def pixel_result_handler(x, y, params, obs_spectra):\n",
      "    # save the closed spectra\n",
      "    csmm[x,y] = evaluate_forward_model(params, siops_data, sensor_filter)\n",
      "    \n",
      "\n",
      "for x in range(0, 20):#sub120.nrows):\n",
      "    for y in range(0, 20):#sub120.ncols):\n",
      "        # reader/player pattern?\n",
      "        obs_spectra = sub120.read_pixel(x, y)\n",
      "        \n",
      "        # This would be better if I had separate error functions\n",
      "        objective = make_objective(\n",
      "                siops_data, \n",
      "                sensor_filter,\n",
      "                obs_spectra,\n",
      "                p_bounds=None,\n",
      "                noise=noise_spectra)\n",
      "\n",
      "        result = minimize(\n",
      "                    objective, \n",
      "                    p0, \n",
      "                    method='SLSQP', \n",
      "                    bounds=p_bounds, \n",
      "                    options={'disp':False, 'maxiter':20000})\n",
      "        \n",
      "        pixel_result_handler(x, y, result['x'], obs_spectra)\n",
      "            \n",
      "\n",
      "# have a look at the closed spectra results\n",
      "sp.imshow(closed_spectra, (0,1,2))\n",
      "print('done')"
     ],
     "language": "python",
     "metadata": {},
     "outputs": []
    }
   ],
   "metadata": {}
  }
 ]
}