{
 "metadata": {
  "name": "",
  "signature": "sha256:5c607a0273cf2b1044bd8af149c16e735d7075179f132ff9e48e2c9534dbbb5a"
 },
 "nbformat": 3,
 "nbformat_minor": 0,
 "worksheets": [
  {
   "cells": [
    {
     "cell_type": "markdown",
     "metadata": {},
     "source": [
      "# First experiments in Sambuca minimisation with Scipy"
     ]
    },
    {
     "cell_type": "markdown",
     "metadata": {},
     "source": [
      "##Set up the environment:"
     ]
    },
    {
     "cell_type": "code",
     "collapsed": false,
     "input": [
      "%matplotlib inline\n",
      "import numpy as np\n",
      "from scipy.optimize import minimize\n",
      "import sambuca as sb\n",
      "import pylab\n",
      "from pkg_resources import resource_filename\n",
      "from scipy.io import loadmat"
     ],
     "language": "python",
     "metadata": {},
     "outputs": [],
     "prompt_number": 99
    },
    {
     "cell_type": "markdown",
     "metadata": {},
     "source": [
      "##Load the matlab reference data:"
     ]
    },
    {
     "cell_type": "code",
     "collapsed": false,
     "input": [
      "filename = resource_filename(\n",
      "            sb.__name__,\n",
      "            'tests/data/test_optimise_data.mat')\n",
      "data = loadmat(filename, squeeze_me=True)\n",
      "data.keys()"
     ],
     "language": "python",
     "metadata": {},
     "outputs": [
      {
       "metadata": {},
       "output_type": "pyout",
       "prompt_number": 100,
       "text": [
        "dict_keys(['p_max', 'modelled_spectra', '__globals__', '__version__', '__header__', 'observed_spectra', 'p', 'p_min'])"
       ]
      }
     ],
     "prompt_number": 100
    },
    {
     "cell_type": "markdown",
     "metadata": {},
     "source": [
      "The order of parameters in p, p_min, and p_max are :\n",
      "    \n",
      "    CHL, CDOM, TR, Q, H\n",
      "        \n",
      "Grab the final parameters and boundary values:"
     ]
    },
    {
     "cell_type": "code",
     "collapsed": false,
     "input": [
      "matlab_final_parameters = data['p']\n",
      "p_min = data['p_min']\n",
      "p_max = data['p_max']\n",
      "print(matlab_final_parameters)\n",
      "print(p_min)\n",
      "print(p_max)"
     ],
     "language": "python",
     "metadata": {},
     "outputs": [
      {
       "output_type": "stream",
       "stream": "stdout",
       "text": [
        "[  1.30467693e-01   3.72368716e-03   5.94543302e-01   1.31813019e-01\n",
        "   1.04426235e+01]\n",
        "[ 0.01    0.0005  0.2     0.      0.    ]\n",
        "[  2.20000000e-01   1.50000000e-02   2.40000000e+00   1.00000000e+00\n",
        "   1.74000000e+01]\n"
       ]
      }
     ],
     "prompt_number": 101
    },
    {
     "cell_type": "markdown",
     "metadata": {},
     "source": [
      "While we are at it, plot the observed and final modelled spectra from the Matlab run:"
     ]
    },
    {
     "cell_type": "code",
     "collapsed": false,
     "input": [
      "obs_spectra = data['observed_spectra']\n",
      "mdl_spectra = data['modelled_spectra']\n",
      "pylab.plot(obs_spectra, label='Observed Spectra')\n",
      "pylab.plot(mdl_spectra, label='Matlab Final Modelled Spectra')\n",
      "pylab.legend(loc='upper right')"
     ],
     "language": "python",
     "metadata": {},
     "outputs": [
      {
       "metadata": {},
       "output_type": "pyout",
       "prompt_number": 102,
       "text": [
        "<matplotlib.legend.Legend at 0xafe2a9cc>"
       ]
      },
      {
       "metadata": {},
       "output_type": "display_data",
       "png": "[encoded data removed]",
       "text": [
        "<matplotlib.figure.Figure at 0xaffd57ec>"
       ]
      }
     ],
     "prompt_number": 102
    },
    {
     "cell_type": "markdown",
     "metadata": {},
     "source": [
      "## Load the sambuca model inputs (SIOPS)"
     ]
    },
    {
     "cell_type": "code",
     "collapsed": false,
     "input": [
      "filename = resource_filename(\n",
      "            sb.__name__,\n",
      "            'tests/data/forwardModelTestValues.mat')\n",
      "siops_data = loadmat(filename, squeeze_me=True)\n",
      "print(siops_data.keys())\n",
      "\n",
      "filename = resource_filename(\n",
      "            sb.__name__,\n",
      "            'tests/data/test_resample.mat')\n",
      "sensor_data = loadmat(filename, squeeze_me=True)\n",
      "print()\n",
      "print(sensor_data.keys())"
     ],
     "language": "python",
     "metadata": {},
     "outputs": [
      {
       "output_type": "stream",
       "stream": "stdout",
       "text": [
        "dict_keys(['tr', 'h', 'wav', 'UQSubs', 'aphy_star', 'd_wls', 'substrate1', 'chl', 'substrate2', 'cdom', '__globals__', '__header__', '__version__', 'n_wls', 'modelled_spectra', 'q', 'awater'])\n",
        "\n",
        "dict_keys(['__globals__', 'filt', 'filtsum', '__version__', 'resampled_spectra', '__header__', 'bandsum', 'calc', 'modelled_spectra'])\n"
       ]
      }
     ],
     "prompt_number": 103
    },
    {
     "cell_type": "markdown",
     "metadata": {},
     "source": [
      "## Utility functions"
     ]
    },
    {
     "cell_type": "code",
     "collapsed": false,
     "input": [
      "def print_parameters(p):\n",
      "    print('CHL: {0}\\nCDOM: {1}\\nTR: {2}\\nH: {3}\\nQ: {4}'.format(p[0],p[1],p[2],p[4],p[3]))\n",
      "    \n",
      "def evaluate_forward_model(p, siops, sensor_filter):\n",
      "    spectra = sb.forward_model(\n",
      "        chl = p[0],\n",
      "        cdom = p[1],\n",
      "        tr = p[2],\n",
      "        h = p[4],\n",
      "        q = p[3],\n",
      "        substrate1=siops['substrate1'],\n",
      "        substrate2=siops['substrate2'],\n",
      "        wav=siops['wav'],\n",
      "        awater=siops['awater'],\n",
      "        aphy_star=siops['aphy_star'],\n",
      "        num_bands=siops['d_wls'])\n",
      "        \n",
      "    # Apply the sensor filter and return the results\n",
      "    return sb.sensor_filter_ml(spectra, sensor_filter)"
     ],
     "language": "python",
     "metadata": {},
     "outputs": [],
     "prompt_number": 104
    },
    {
     "cell_type": "markdown",
     "metadata": {},
     "source": [
      "## Objective Function\n",
      "Define the objective function by assembling sambuca components (forward model, sensor filter, error function), using a closure to bind the other inputs:"
     ]
    },
    {
     "cell_type": "code",
     "collapsed": false,
     "input": [
      "def make_objective(siops, sensor_filter, obs_spectra, p_bounds=None, noise=None):\n",
      "    awater = siops['awater']\n",
      "    wav = siops['wav']\n",
      "    aphy_star = siops['aphy_star']\n",
      "    substrate1 = siops['substrate1']\n",
      "    substrate2 = siops['substrate2']\n",
      "    num_modelled_bands = siops['d_wls']\n",
      "    num_observed_bands = siops['n_wls']\n",
      "            \n",
      "    def objective(p):\n",
      "        # To support algorithms without support for boundary values, we assign a high \n",
      "        # score to out of range parameters.\n",
      "        # p_bounds is a tuple of (min, max) pairs for each parameter in p\n",
      "        if p_bounds is not None:\n",
      "            for _p, lu in zip(p, p_bounds):\n",
      "                l, u = lu\n",
      "                if _p < l or _p > u:\n",
      "                    return 1000.0\n",
      "                    \n",
      "        # call the forward model\n",
      "        # We rely on the default values of the other model inputs, which happen to be\n",
      "        # the same values used in the Matlab code\n",
      "        spectra = sb.forward_model(\n",
      "            chl = p[0],\n",
      "            cdom = p[1],\n",
      "            tr = p[2],\n",
      "            h = p[4],\n",
      "            q = p[3],\n",
      "            substrate1=substrate1,\n",
      "            substrate2=substrate2,\n",
      "            wav=wav,\n",
      "            awater=awater,\n",
      "            aphy_star=aphy_star,\n",
      "            num_bands=num_modelled_bands)\n",
      "        \n",
      "        # Apply the sensor filter\n",
      "        filtered_spectra = sb.sensor_filter_ml(spectra, sensor_filter)\n",
      "        \n",
      "        # Calculate the error and return it as the objective score\n",
      "        error = sb.error_af(obs_spectra, filtered_spectra, noise)\n",
      "        \n",
      "        # error_af returns a tuple containing the following error values:\n",
      "        #  distance_alpha  (equivalent to error_a)\n",
      "        #  distance_alpha_f\n",
      "        #  distance_f      (equivalent to error_f)\n",
      "        #  distance_lsq\n",
      "        #  error_af\n",
      "        #\n",
      "        # They can be selected by index (0-based)\n",
      "        return error[0]\n",
      "        \n",
      "    \n",
      "    return objective"
     ],
     "language": "python",
     "metadata": {},
     "outputs": [],
     "prompt_number": 105
    },
    {
     "cell_type": "markdown",
     "metadata": {},
     "source": [
      "Define the initial values and boundary values, even though not all minimisation methods support constraints:"
     ]
    },
    {
     "cell_type": "code",
     "collapsed": true,
     "input": [
      "#p_min and p_max have already been defined in previous cells (read from test data)\n",
      "p0 = np.random.random(5) * (p_max - p_min) + p_min\n",
      "print('p0 = {}\\n'.format(p0))\n",
      "\n",
      "# repackage p_min and p_max into the tuple of (min,max) pairs expected by our objective function,\n",
      "# and by the minimisation methods that support bounds\n",
      "p_bounds = tuple(zip(p_min, p_max))\n",
      "print('bounds = {}'.format(p_bounds))"
     ],
     "language": "python",
     "metadata": {},
     "outputs": [
      {
       "output_type": "stream",
       "stream": "stdout",
       "text": [
        "p0 = [ 0.08290807  0.0122801   1.95212204  0.7068657   6.37610294]\n",
        "\n",
        "bounds = ((0.01, 0.22), (0.00050000000000000001, 0.014999999999999999), (0.20000000000000001, 2.3999999999999999), (0.0, 1.0), (0.0, 17.399999999999999))\n"
       ]
      }
     ],
     "prompt_number": 106
    },
    {
     "cell_type": "markdown",
     "metadata": {},
     "source": [
      "Load the noise data:"
     ]
    },
    {
     "cell_type": "code",
     "collapsed": false,
     "input": [
      "# the noise data happens to be in a different file\n",
      "filename = resource_filename(sb.__name__, 'tests/data/test_error_noise.mat')\n",
      "noise_data = loadmat(filename, squeeze_me=True)\n",
      "\n",
      "obj = make_objective(siops_data, sensor_data['filt'], obs_spectra, noise_data['noiserrs'])"
     ],
     "language": "python",
     "metadata": {},
     "outputs": [],
     "prompt_number": 107
    },
    {
     "cell_type": "markdown",
     "metadata": {},
     "source": [
      "## Nelder-Mead Simplex algorithm\n",
      "This is the closest match to the Amoeba algorithm used in the IDL code, but it does not support constraints on the parameters. Constraints can be simulated by checking for out of range values in the objective function and assigning an arbitrarily high score.\n",
      "\n",
      "**Note that if the function fails to converge (max iterations exceeded), it is worth regenerating p0**"
     ]
    },
    {
     "cell_type": "code",
     "collapsed": false,
     "input": [
      "# the noise data happens to be in a different file\n",
      "filename = resource_filename(sb.__name__, 'tests/data/test_error_noise.mat')\n",
      "noise_data = loadmat(filename, squeeze_me=True)"
     ],
     "language": "python",
     "metadata": {},
     "outputs": [],
     "prompt_number": 108
    },
    {
     "cell_type": "code",
     "collapsed": false,
     "input": [
      "# construct an objective value with handling for parameter boundaries\n",
      "obj = make_objective(\n",
      "        siops_data, \n",
      "        sensor_data['filt'], \n",
      "        obs_spectra, \n",
      "        p_bounds,\n",
      "        noise_data['noiserrs'])\n",
      "\n",
      "# call the minimiser\n",
      "res_nm = minimize(obj, p0, method='nelder-mead', \n",
      "                  options={'xtol':1e-8, 'disp':True, 'maxiter':2000})"
     ],
     "language": "python",
     "metadata": {},
     "outputs": [
      {
       "output_type": "stream",
       "stream": "stdout",
       "text": [
        "Optimization terminated successfully.\n",
        "         Current function value: 0.037755\n",
        "         Iterations: 529\n",
        "         Function evaluations: 909\n"
       ]
      }
     ],
     "prompt_number": 109
    },
    {
     "cell_type": "markdown",
     "metadata": {},
     "source": [
      "Retrieve the best parameter set, run the forward model with those parameters and then plot the results alongside the observed spectra and Matlab results:"
     ]
    },
    {
     "cell_type": "code",
     "collapsed": false,
     "input": [
      "p_nm = res_nm['x']\n",
      "print_parameters(p_nm)\n",
      "\n",
      "spectra_nm = evaluate_forward_model(p_nm, siops_data, sensor_data['filt'])\n",
      "\n",
      "pylab.plot(obs_spectra, label='Observed Spectra')\n",
      "pylab.plot(mdl_spectra, label='Matlab Final Modelled Spectra')\n",
      "pylab.plot(spectra_nm, label='Nelder-Mead')\n",
      "pylab.legend(loc='upper right')"
     ],
     "language": "python",
     "metadata": {},
     "outputs": [
      {
       "output_type": "stream",
       "stream": "stdout",
       "text": [
        "CHL: 0.13024586935552532\n",
        "CDOM: 0.003603047101891525\n",
        "TR: 0.5756304208681597\n",
        "H: 10.62780682656199\n",
        "Q: 2.6926022472072886e-12\n"
       ]
      },
      {
       "metadata": {},
       "output_type": "pyout",
       "prompt_number": 110,
       "text": [
        "<matplotlib.legend.Legend at 0xafded4ec>"
       ]
      },
      {
       "metadata": {},
       "output_type": "display_data",
       "png": "[encoded data removed]",
       "text": [
        "<matplotlib.figure.Figure at 0xafe861ec>"
       ]
      }
     ],
     "prompt_number": 110
    }
   ],
   "metadata": {}
  }
 ]
}