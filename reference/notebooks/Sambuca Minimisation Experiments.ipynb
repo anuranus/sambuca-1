{
 "metadata": {
  "name": "",
  "signature": "sha256:a6b6863370e5bd14714e3df4f2949de91f704717d55453ac85debb7159a30bec"
 },
 "nbformat": 3,
 "nbformat_minor": 0,
 "worksheets": [
  {
   "cells": [
    {
     "cell_type": "markdown",
     "metadata": {},
     "source": [
      "# First experiments in Sambuca minimisation with Scipy"
     ]
    },
    {
     "cell_type": "markdown",
     "metadata": {},
     "source": [
      "## Utility functions"
     ]
    },
    {
     "cell_type": "code",
     "collapsed": false,
     "input": [
      "# spectra to plot\n",
      "plot_items = list()\n",
      "\n",
      "def print_parameters(p):\n",
      "    print('CHL:  {0:10.5f}\\nCDOM: {1:10.5f}\\nTR:   {2:10.5f}\\nH:    {3:10.5f}\\nQ:    {4:10.5f}'\n",
      "          .format(p[0],p[1],p[2],p[4],p[3]))\n",
      "    \n",
      "def evaluate_forward_model(p, siops, sensor_filter):\n",
      "    spectra = sb.forward_model(\n",
      "        chl = p[0],\n",
      "        cdom = p[1],\n",
      "        tr = p[2],\n",
      "        h = p[4],\n",
      "        q = p[3],\n",
      "        substrate1=siops['substrate1'],\n",
      "        substrate2=siops['substrate2'],\n",
      "        wav=siops['wav'],\n",
      "        awater=siops['awater'],\n",
      "        aphy_star=siops['aphy_star'],\n",
      "        num_bands=siops['d_wls'])\n",
      "        \n",
      "    # Apply the sensor filter and return the results\n",
      "    return sb.apply_sensor_filter(spectra, sensor_filter)"
     ],
     "language": "python",
     "metadata": {},
     "outputs": []
    },
    {
     "cell_type": "markdown",
     "metadata": {},
     "source": [
      "##Load the matlab reference data:"
     ]
    },
    {
     "cell_type": "code",
     "collapsed": false,
     "input": [
      "filename = resource_filename(\n",
      "            sb.__name__,\n",
      "            'tests/data/test_optimise_data.mat')\n",
      "data = loadmat(filename, squeeze_me=True)\n",
      "data.keys()"
     ],
     "language": "python",
     "metadata": {},
     "outputs": []
    },
    {
     "cell_type": "markdown",
     "metadata": {},
     "source": [
      "The order of parameters in p, p_min, and p_max are :\n",
      "    \n",
      "    CHL, CDOM, TR, Q, H\n",
      "        \n",
      "Grab the final parameters and boundary values:"
     ]
    },
    {
     "cell_type": "code",
     "collapsed": false,
     "input": [
      "matlab_final_parameters = data['p']\n",
      "p_min = data['p_min']\n",
      "p_max = data['p_max']\n",
      "print(\"Matlab Parameters\")\n",
      "print_parameters(matlab_final_parameters)"
     ],
     "language": "python",
     "metadata": {},
     "outputs": []
    },
    {
     "cell_type": "markdown",
     "metadata": {},
     "source": [
      "While we are at it, plot the observed and final modelled spectra from the Matlab run:"
     ]
    },
    {
     "cell_type": "code",
     "collapsed": false,
     "input": [
      "obs_spectra = data['observed_spectra']\n",
      "mdl_spectra = data['modelled_spectra']\n",
      "plot_items.clear()\n",
      "plot_items.append((obs_spectra, 'Observed'))\n",
      "plot_items.append((mdl_spectra, 'Matlab'))\n",
      "\n",
      "plt.figure(figsize=(plot_width, plot_height))\n",
      "for pi in plot_items:\n",
      "    plt.plot(pi[0], label=pi[1])\n",
      "plt.legend(loc='upper right')\n",
      "plt.show()"
     ],
     "language": "python",
     "metadata": {},
     "outputs": []
    },
    {
     "cell_type": "markdown",
     "metadata": {},
     "source": [
      "## Load the sambuca model inputs (SIOPS)"
     ]
    },
    {
     "cell_type": "code",
     "collapsed": false,
     "input": [
      "filename = resource_filename(\n",
      "            sb.__name__,\n",
      "            'tests/data/forwardModelTestValues.mat')\n",
      "siops_data = loadmat(filename, squeeze_me=True)\n",
      "print(siops_data.keys())\n",
      "\n",
      "filename = resource_filename(\n",
      "            sb.__name__,\n",
      "            'tests/data/test_resample.mat')\n",
      "sensor_data = loadmat(filename, squeeze_me=True)\n",
      "print()\n",
      "print(sensor_data.keys())\n",
      "\n",
      "print()\n",
      "print(sensor_data['filt'].shape)"
     ],
     "language": "python",
     "metadata": {},
     "outputs": []
    },
    {
     "cell_type": "code",
     "collapsed": false,
     "input": [
      "# the noise data happens to be in a different file\n",
      "filename = resource_filename(sb.__name__, 'tests/data/test_error_noise.mat')\n",
      "noise_data = loadmat(filename, squeeze_me=True)"
     ],
     "language": "python",
     "metadata": {},
     "outputs": []
    },
    {
     "cell_type": "markdown",
     "metadata": {},
     "source": [
      "## Objective Function\n",
      "Define the objective function by assembling sambuca components (forward model, sensor filter, error function), using a closure to bind the other inputs:"
     ]
    },
    {
     "cell_type": "code",
     "collapsed": false,
     "input": [
      "import math\n",
      "\n",
      "def make_objective(siops, sensor_filter, obs_spectra, p_bounds=None, noise=None):\n",
      "    awater = siops['awater']\n",
      "    wav = siops['wav']\n",
      "    aphy_star = siops['aphy_star']\n",
      "    substrate1 = siops['substrate1']\n",
      "    substrate2 = siops['substrate2']\n",
      "    num_modelled_bands = siops['d_wls']\n",
      "    num_observed_bands = siops['n_wls']\n",
      "            \n",
      "    def objective(p):\n",
      "        # To support algorithms without support for boundary values, we assign a high \n",
      "        # score to out of range parameters.\n",
      "        # p_bounds is a tuple of (min, max) pairs for each parameter in p\n",
      "        if p_bounds is not None:\n",
      "            for _p, lu in zip(p, p_bounds):\n",
      "                l, u = lu\n",
      "                if _p < l or _p > u:\n",
      "                    return 100000.0\n",
      "                    \n",
      "        # call the forward model\n",
      "        # We rely on the default values of the other model inputs, which happen to be\n",
      "        # the same values used in the Matlab code\n",
      "        spectra = sb.forward_model(\n",
      "            chl = p[0],\n",
      "            cdom = p[1],\n",
      "            tr = p[2],\n",
      "            h = p[4],\n",
      "            q = p[3],\n",
      "            substrate1=substrate1,\n",
      "            substrate2=substrate2,\n",
      "            wav=wav,\n",
      "            awater=awater,\n",
      "            aphy_star=aphy_star,\n",
      "            num_bands=num_modelled_bands)\n",
      "        \n",
      "        # Apply the sensor filter\n",
      "        filtered_spectra = sb.apply_sensor_filter(spectra, sensor_filter)\n",
      "        \n",
      "        # Calculate the error and return it as the objective score\n",
      "        error = sb.error_all(obs_spectra, filtered_spectra, noise)\n",
      "        \n",
      "        #return error.distance_alpha\n",
      "        #return error.distance_alpha_f\n",
      "        return error.distance_f\n",
      "        #return error.distance_lsq\n",
      "        #return error.error_af\n",
      "    \n",
      "    return objective"
     ],
     "language": "python",
     "metadata": {},
     "outputs": []
    },
    {
     "cell_type": "markdown",
     "metadata": {},
     "source": [
      "Define the initial values and boundary values, even though not all minimisation methods support constraints:"
     ]
    },
    {
     "cell_type": "code",
     "collapsed": true,
     "input": [
      "#p_min and p_max have already been defined in previous cells (read from test data)\n",
      "# random parameters often lead to a tougher optimisation challenge\n",
      "p0_rand = np.random.random(5) * (p_max - p_min) + p_min\n",
      "\n",
      "# Parameters known to lead Nelder-Mead astray:\n",
      "#p0 = np.array([0.13959, 0.00361,  0.73770,  0.07821,  0.02446])\n",
      "\n",
      "# Try using the matlab parameters as the initial guess:\n",
      "#p0 = matlab_final_parameters * 1.5\n",
      "\n",
      "p0 = p0_rand\n",
      "\n",
      "# Q seems hard to estimate, so experiment with different starting values\n",
      "p0[3] = 0.17\n",
      "\n",
      "print(\"Initial Parameters\\n\")\n",
      "print_parameters(p0)\n",
      "\n",
      "# repackage p_min and p_max into the tuple of (min,max) pairs expected by our objective function,\n",
      "# and by the minimisation methods that support bounds\n",
      "p_bounds = tuple(zip(p_min, p_max))\n",
      "print('\\nBounds = {}'.format(p_bounds))"
     ],
     "language": "python",
     "metadata": {},
     "outputs": []
    },
    {
     "cell_type": "markdown",
     "metadata": {},
     "source": [
      "Load the noise data:"
     ]
    },
    {
     "cell_type": "code",
     "collapsed": false,
     "input": [
      "# the noise data happens to be in a different file\n",
      "filename = resource_filename(sb.__name__, 'tests/data/test_error_noise.mat')\n",
      "noise_data = loadmat(filename, squeeze_me=True)\n",
      "\n",
      "# With noise:\n",
      "obj = make_objective(siops_data, sensor_data['filt'], obs_spectra, noise_data['noiserrs'])\n",
      "# Without noise:\n",
      "#obj = make_objective(siops_data, sensor_data['filt'], obs_spectra)"
     ],
     "language": "python",
     "metadata": {},
     "outputs": []
    },
    {
     "cell_type": "markdown",
     "metadata": {},
     "source": [
      "#Optimisation using SciPy\n",
      "\n",
      "More info on the different methods:\n",
      "http://docs.scipy.org/doc/scipy/reference/tutorial/optimize.html"
     ]
    },
    {
     "cell_type": "markdown",
     "metadata": {},
     "source": [
      "## Nelder-Mead (method='nelder-mead')\n",
      "This is the closest match to the Amoeba algorithm used in the IDL code, but it does not support constraints on the parameters. Constraints can be simulated by checking for out of range values in the objective function and assigning an arbitrarily high score.\n",
      "\n",
      "**Note that if the function fails to converge (max iterations exceeded), it is worth regenerating p0**"
     ]
    },
    {
     "cell_type": "code",
     "collapsed": false,
     "input": [
      "# construct an objective value with handling for parameter boundaries\n",
      "obj_bounds = make_objective(\n",
      "        siops_data, \n",
      "        sensor_data['filt'], \n",
      "        obs_spectra, \n",
      "        p_bounds,\n",
      "        noise_data['noiserrs'])\n",
      "\n",
      "# call the minimiser\n",
      "res_nm = minimize(obj_bounds, p0, method='nelder-mead', \n",
      "                  options={'xtol':1e-5, 'disp':True, 'maxiter':50000})\n",
      "\n",
      "p_nm = res_nm['x']\n",
      "print_parameters(p_nm)\n",
      "\n",
      "nm_spectra = evaluate_forward_model(p_nm, siops_data, sensor_data['filt'])"
     ],
     "language": "python",
     "metadata": {},
     "outputs": []
    },
    {
     "cell_type": "markdown",
     "metadata": {},
     "source": [
      "## Other Unconstrained Methods (objective function applies constraints)"
     ]
    },
    {
     "cell_type": "code",
     "collapsed": false,
     "input": [
      "res_powell = minimize(obj_bounds, p0, method='L-BFGS-B', options={'disp':True, 'maxiter':20000})\n",
      "p_powell = res_powell['x']\n",
      "print_parameters(p_powell)\n",
      "powell_spectra = evaluate_forward_model(p_powell, siops_data, sensor_data['filt'])"
     ],
     "language": "python",
     "metadata": {},
     "outputs": []
    },
    {
     "cell_type": "code",
     "collapsed": false,
     "input": [
      "res_bfgs = minimize(obj_bounds, p0, method='BFGS', options={'disp':True, 'maxiter':20000})\n",
      "p_bfgs = res_bfgs['x']\n",
      "print_parameters(p_bfgs)\n",
      "bfgs_spectra = evaluate_forward_model(p_bfgs, siops_data, sensor_data['filt'])"
     ],
     "language": "python",
     "metadata": {},
     "outputs": []
    },
    {
     "cell_type": "code",
     "collapsed": false,
     "input": [
      "res_cobyla = minimize(obj_bounds, p0, method='COBYLA', \n",
      "                      options={'disp':True, 'maxiter':20000})\n",
      "p_cobyla = res_cobyla['x']\n",
      "print_parameters(p_cobyla)\n",
      "cobyla_spectra = evaluate_forward_model(p_cobyla, siops_data, sensor_data['filt'])"
     ],
     "language": "python",
     "metadata": {},
     "outputs": []
    },
    {
     "cell_type": "markdown",
     "metadata": {},
     "source": [
      "##Methods that handle boundary values (objective function has no bounds)"
     ]
    },
    {
     "cell_type": "code",
     "collapsed": false,
     "input": [
      "# construct an objective without boundary values\n",
      "obj_nobounds = make_objective(\n",
      "        siops_data, \n",
      "        sensor_data['filt'], \n",
      "        obs_spectra, \n",
      "        None,\n",
      "        noise_data['noiserrs'])"
     ],
     "language": "python",
     "metadata": {},
     "outputs": []
    },
    {
     "cell_type": "code",
     "collapsed": false,
     "input": [
      "res_lbfgs = minimize(obj_nobounds, p0, method='L-BFGS-B', bounds=p_bounds, \n",
      "                     options={'disp':True, 'maxiter':20000})\n",
      "p_lbfgs = res_lbfgs['x']\n",
      "print_parameters(p_lbfgs)\n",
      "lbfgs_spectra = evaluate_forward_model(p_lbfgs, siops_data, sensor_data['filt'])"
     ],
     "language": "python",
     "metadata": {},
     "outputs": []
    },
    {
     "cell_type": "code",
     "collapsed": false,
     "input": [
      "res_slsqp = minimize(obj_nobounds, p0, method='SLSQP', bounds=p_bounds, \n",
      "                     options={'disp':True, 'maxiter':20000})\n",
      "p_slsqp = res_slsqp['x']\n",
      "print_parameters(p_slsqp)\n",
      "slsqp_spectra = evaluate_forward_model(p_slsqp, siops_data, sensor_data['filt'])"
     ],
     "language": "python",
     "metadata": {},
     "outputs": []
    },
    {
     "cell_type": "markdown",
     "metadata": {},
     "source": [
      "##Global Search: Basin Hopping with SLSQP\n",
      "Slower, but worth a try..."
     ]
    },
    {
     "cell_type": "code",
     "collapsed": false,
     "input": [
      "# basinhopping fails with any of the other error functions, at least with the current data set\n",
      "bh_spectra = None\n",
      "if False:\n",
      "    res_bh = basinhopping(obj_nobounds, \n",
      "                          p0_rand, \n",
      "                          #T=1.0,\n",
      "                          #stepsize=0.8,\n",
      "                          #niter=200, \n",
      "                          #disp=True,\n",
      "                          minimizer_kwargs={'method':'SLSQP', 'bounds':p_bounds, \n",
      "                                            'options':{'disp':False, 'maxiter':2000}})\n",
      "    p_bh = res_bh['x']\n",
      "    print_parameters(p_bh)\n",
      "    bh_spectra = evaluate_forward_model(p_bh, siops_data, sensor_data['filt'])\n",
      "else:\n",
      "    print('Skipped')"
     ],
     "language": "python",
     "metadata": {},
     "outputs": []
    },
    {
     "cell_type": "markdown",
     "metadata": {},
     "source": [
      "###Plot the results"
     ]
    },
    {
     "cell_type": "markdown",
     "metadata": {},
     "source": [
      "Retrieve the best parameter set, run the forward model with those parameters and then plot the results alongside the observed spectra and Matlab results:"
     ]
    },
    {
     "cell_type": "code",
     "collapsed": false,
     "input": [
      "plot_items.clear()\n",
      "plot_items.append((obs_spectra, 'Observed'))\n",
      "plot_items.append((mdl_spectra, 'Matlab'))\n",
      "plot_items.append((nm_spectra, 'Nelder-Mead'))\n",
      "plot_items.append((slsqp_spectra, 'SLSQP'))\n",
      "#plot_items.append((powell_spectra, 'Powell'))\n",
      "#plot_items.append((lbfgs_spectra, 'L-BFGS-B'))\n",
      "#plot_items.append((cobyla_spectra, 'COBYLA'))\n",
      "#plot_items.append((bfgs_spectra, 'BFGS'))\n",
      "if bh_spectra is not None:\n",
      "    plot_items.append((bh_spectra, 'Basinhopping'))\n",
      "\n",
      "plt.figure(figsize=(plot_width, plot_height))\n",
      "for pi in plot_items:\n",
      "    plt.plot(pi[0], label=pi[1])\n",
      "\n",
      "plt.legend(loc='upper right')\n",
      "plt.show()"
     ],
     "language": "python",
     "metadata": {},
     "outputs": []
    },
    {
     "cell_type": "markdown",
     "metadata": {},
     "source": [
      "## Compare the parameters"
     ]
    },
    {
     "cell_type": "code",
     "collapsed": false,
     "input": [
      "print(\"Matlab\")\n",
      "print_parameters(matlab_final_parameters)\n",
      "\n",
      "print(\"\\nSearch Start\")\n",
      "print_parameters(p0)\n",
      "\n",
      "print(\"\\nNelder-Mead\")\n",
      "print_parameters(p_nm)\n",
      "\n",
      "print(\"\\nSequential Least Squares\")\n",
      "print_parameters(p_slsqp)"
     ],
     "language": "python",
     "metadata": {},
     "outputs": []
    },
    {
     "cell_type": "markdown",
     "metadata": {},
     "source": [
      "# Timing Results"
     ]
    },
    {
     "cell_type": "markdown",
     "metadata": {},
     "source": [
      "SLSQP (Sequential Least Squares) appears to do consistently well and is less sensitive to the initial parameters. It also requires less function evaluations on average. Comparing it to Nelder-Mead (which is the closest match to the Amoeba algorithm used in the IDL code):"
     ]
    },
    {
     "cell_type": "code",
     "collapsed": false,
     "input": [
      "print('Nelder-Mead Function Evaluations {:10.5f}'.format(res_nm['nfev']))\n",
      "print('SLSQP Function Evaluations {:10.5f}'.format(res_slsqp['nfev']))"
     ],
     "language": "python",
     "metadata": {},
     "outputs": []
    },
    {
     "cell_type": "code",
     "collapsed": false,
     "input": [
      "print('SLSQP Time')\n",
      "%timeit minimize(obj_nobounds, p0, method='SLSQP', bounds=p_bounds, options={'disp':False, 'maxiter':20000})"
     ],
     "language": "python",
     "metadata": {},
     "outputs": []
    },
    {
     "cell_type": "code",
     "collapsed": false,
     "input": [
      "print('Nelder-Mead Time')\n",
      "%timeit minimize(obj_bounds, p0, method='nelder-mead', options={'xtol':1e-8, 'disp':False, 'maxiter':50000})"
     ],
     "language": "python",
     "metadata": {},
     "outputs": []
    }
   ],
   "metadata": {}
  }
 ]
}