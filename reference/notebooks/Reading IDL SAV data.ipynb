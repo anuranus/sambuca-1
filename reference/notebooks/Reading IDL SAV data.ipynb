{
 "cells": [
  {
   "cell_type": "code",
   "execution_count": 2,
   "metadata": {
    "collapsed": false
   },
   "outputs": [],
   "source": [
    "from scipy.io import readsav\n",
    "import pprint\n",
    "\n",
    "pp = pprint.PrettyPrinter(indent=4).pprint"
   ]
  },
  {
   "cell_type": "code",
   "execution_count": 3,
   "metadata": {
    "collapsed": false,
    "scrolled": true
   },
   "outputs": [
    {
     "name": "stdout",
     "output_type": "stream",
     "text": [
      "_F1nm_H25_a_Non_UQ02_MB_RC__OS_SHon.sav  qbtest_output_spectra.hdr\r\n",
      "forwardModelTestValues.mat               qbtest_output_spectra.lib\r\n",
      "qbtest_filter_350_900nm.hdr              test_error_noise.mat\r\n",
      "qbtest_filter_350_900nm.lib              test_error_no_noise.mat\r\n",
      "qbtest_input_spectra.hdr                 test_optimise_data.mat\r\n",
      "qbtest_input_spectra.lib                 test_resample.mat\r\n"
     ]
    }
   ],
   "source": [
    "%ls ../../src/sambuca/tests/data"
   ]
  },
  {
   "cell_type": "code",
   "execution_count": 4,
   "metadata": {
    "collapsed": false
   },
   "outputs": [
    {
     "name": "stderr",
     "output_type": "stream",
     "text": [
      "/usr/lib/python3.4/site-packages/scipy/io/idl.py:420: UserWarning: Skipping SYSTEM_VARIABLE record\n",
      "  warnings.warn(\"Skipping SYSTEM_VARIABLE record\")\n"
     ]
    }
   ],
   "source": [
    "data = readsav('../../src/sambuca/tests/data/_F1nm_H25_a_Non_UQ02_MB_RC__OS_SHon.sav')"
   ]
  },
  {
   "cell_type": "code",
   "execution_count": 18,
   "metadata": {
    "collapsed": false
   },
   "outputs": [
    {
     "data": {
      "text/plain": [
       "dict_keys(['f_val', 'iop_a', 'r2', 'botline2', 'qwater', 'spectra', 'rrs', 'alpha_val', 'water_corrected_mixel', 'substrater', 'realrrs', 'sambuca', 'noiserrs', '_idlidetempvar_', 'h', 'zz', 'error', 'rat', 'z', 'q1', 'botline1', 'iop_bb', 'subsdet_spectral', 'r1', 'topline', 'lsq'])"
      ]
     },
     "execution_count": 18,
     "metadata": {},
     "output_type": "execute_result"
    }
   ],
   "source": [
    "data.keys()"
   ]
  },
  {
   "cell_type": "code",
   "execution_count": 6,
   "metadata": {
    "collapsed": false
   },
   "outputs": [
    {
     "data": {
      "text/plain": [
       "('WL',\n",
       " 'SUBSTRATER',\n",
       " 'INPUT_SPECTRA',\n",
       " 'A',\n",
       " 'BB',\n",
       " 'R0',\n",
       " 'R0DP',\n",
       " 'KD',\n",
       " 'KUC',\n",
       " 'KUB')"
      ]
     },
     "execution_count": 6,
     "metadata": {},
     "output_type": "execute_result"
    }
   ],
   "source": [
    "data.spectra[0].dtype.names"
   ]
  },
  {
   "cell_type": "code",
   "execution_count": 7,
   "metadata": {
    "collapsed": false
   },
   "outputs": [
    {
     "data": {
      "text/plain": [
       "551"
      ]
     },
     "execution_count": 7,
     "metadata": {},
     "output_type": "execute_result"
    }
   ],
   "source": [
    "len(data.spectra[0].substrater)"
   ]
  },
  {
   "cell_type": "code",
   "execution_count": 8,
   "metadata": {
    "collapsed": false,
    "scrolled": true
   },
   "outputs": [
    {
     "data": {
      "text/plain": [
       "('DISTANCES',\n",
       " 'OPTI_PARAMS',\n",
       " 'INPUT_PARAMS',\n",
       " 'IMAGESPECTRA',\n",
       " 'INPUT_SPECTRA',\n",
       " 'INPUTR',\n",
       " 'INPUT_SIOP',\n",
       " 'WGOSW')"
      ]
     },
     "execution_count": 8,
     "metadata": {},
     "output_type": "execute_result"
    }
   ],
   "source": [
    "data.sambuca.dtype.names"
   ]
  },
  {
   "cell_type": "code",
   "execution_count": 9,
   "metadata": {
    "collapsed": false
   },
   "outputs": [
    {
     "data": {
      "text/plain": [
       "array([ 45.], dtype=float32)"
      ]
     },
     "execution_count": 9,
     "metadata": {},
     "output_type": "execute_result"
    }
   ],
   "source": [
    "data.sambuca.input_params[0].theta_air"
   ]
  },
  {
   "cell_type": "code",
   "execution_count": 10,
   "metadata": {
    "collapsed": false
   },
   "outputs": [
    {
     "data": {
      "text/plain": [
       "('WL',\n",
       " 'AWATER',\n",
       " 'BBWATER',\n",
       " 'APHY_STAR',\n",
       " 'ACDOM_STAR',\n",
       " 'ATR_STAR',\n",
       " 'BBPH_STAR',\n",
       " 'BBTR_STAR',\n",
       " 'CALCULATE_SIOPS',\n",
       " 'SUBSTRATER')"
      ]
     },
     "execution_count": 10,
     "metadata": {},
     "output_type": "execute_result"
    }
   ],
   "source": [
    "data.sambuca.input_spectra[0].dtype.names"
   ]
  },
  {
   "cell_type": "code",
   "execution_count": 11,
   "metadata": {
    "collapsed": false
   },
   "outputs": [
    {
     "data": {
      "text/plain": [
       "('THETA_AIR', 'LAMBDA0CDOM', 'LAMBDA0TR', 'LAMBDA0X')"
      ]
     },
     "execution_count": 11,
     "metadata": {},
     "output_type": "execute_result"
    }
   ],
   "source": [
    "data.sambuca.input_params[0].dtype.names"
   ]
  },
  {
   "cell_type": "markdown",
   "metadata": {
    "collapsed": false
   },
   "source": [
    "# Parameters in ZZ"
   ]
  },
  {
   "cell_type": "code",
   "execution_count": 12,
   "metadata": {
    "collapsed": false
   },
   "outputs": [
    {
     "data": {
      "text/plain": [
       "numpy.ndarray"
      ]
     },
     "execution_count": 12,
     "metadata": {},
     "output_type": "execute_result"
    }
   ],
   "source": [
    "type(data.zz)"
   ]
  },
  {
   "cell_type": "code",
   "execution_count": 13,
   "metadata": {
    "collapsed": false
   },
   "outputs": [
    {
     "data": {
      "text/plain": [
       "15"
      ]
     },
     "execution_count": 13,
     "metadata": {},
     "output_type": "execute_result"
    }
   ],
   "source": [
    "len(data.zz)"
   ]
  },
  {
   "cell_type": "markdown",
   "metadata": {},
   "source": [
    "#Substrate Extraction"
   ]
  },
  {
   "cell_type": "code",
   "execution_count": 14,
   "metadata": {
    "collapsed": false
   },
   "outputs": [
    {
     "data": {
      "text/plain": [
       "('N_SPECTRA', 'SUBS_Z', 'SPECTRA', 'NAMES', 'INDEX')"
      ]
     },
     "execution_count": 14,
     "metadata": {},
     "output_type": "execute_result"
    }
   ],
   "source": [
    "data.sambuca.inputr[0].dtype.names"
   ]
  },
  {
   "cell_type": "code",
   "execution_count": 15,
   "metadata": {
    "collapsed": true
   },
   "outputs": [],
   "source": [
    "spectra = data.sambuca.inputr[0].spectra[0]\n",
    "indicies = data.sambuca.inputr[0].index[0]\n",
    "substrate1 = spectra[indicies[0]]"
   ]
  },
  {
   "cell_type": "code",
   "execution_count": 16,
   "metadata": {
    "collapsed": false
   },
   "outputs": [
    {
     "data": {
      "text/plain": [
       "(551,)"
      ]
     },
     "execution_count": 16,
     "metadata": {},
     "output_type": "execute_result"
    }
   ],
   "source": [
    "data.sambuca.inputr[0].spectra[0][:,0].shape"
   ]
  },
  {
   "cell_type": "code",
   "execution_count": 17,
   "metadata": {
    "collapsed": false,
    "scrolled": true
   },
   "outputs": [
    {
     "ename": "IndexError",
     "evalue": "index 1 is out of bounds for axis 0 with size 1",
     "output_type": "error",
     "traceback": [
      "\u001b[1;31m---------------------------------------------------------------------------\u001b[0m",
      "\u001b[1;31mIndexError\u001b[0m                                Traceback (most recent call last)",
      "\u001b[1;32m<ipython-input-17-9be58f6f6a7b>\u001b[0m in \u001b[0;36m<module>\u001b[1;34m()\u001b[0m\n\u001b[1;32m----> 1\u001b[1;33m \u001b[0mdata\u001b[0m\u001b[1;33m.\u001b[0m\u001b[0msambuca\u001b[0m\u001b[1;33m.\u001b[0m\u001b[0minputr\u001b[0m\u001b[1;33m[\u001b[0m\u001b[1;36m0\u001b[0m\u001b[1;33m]\u001b[0m\u001b[1;33m.\u001b[0m\u001b[0mindex\u001b[0m\u001b[1;33m[\u001b[0m\u001b[1;36m1\u001b[0m\u001b[1;33m]\u001b[0m\u001b[1;33m\u001b[0m\u001b[0m\n\u001b[0m",
      "\u001b[1;31mIndexError\u001b[0m: index 1 is out of bounds for axis 0 with size 1"
     ]
    }
   ],
   "source": [
    "data.sambuca.inputr[0].index[1]"
   ]
  }
 ],
 "metadata": {
  "kernelspec": {
   "display_name": "Python 3",
   "language": "python",
   "name": "python3"
  },
  "language_info": {
   "codemirror_mode": {
    "name": "ipython",
    "version": 3
   },
   "file_extension": ".py",
   "mimetype": "text/x-python",
   "name": "python",
   "nbconvert_exporter": "python",
   "pygments_lexer": "ipython3",
   "version": "3.4.3"
  }
 },
 "nbformat": 4,
 "nbformat_minor": 0
}
