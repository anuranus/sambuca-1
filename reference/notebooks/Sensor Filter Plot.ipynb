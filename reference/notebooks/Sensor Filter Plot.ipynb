{
 "metadata": {
  "name": "",
  "signature": "sha256:4120224a25ea41d668b44ea5ec3a3ab63577bb4fa23f6492b938b9656f5006f0"
 },
 "nbformat": 3,
 "nbformat_minor": 0,
 "worksheets": [
  {
   "cells": [
    {
     "cell_type": "markdown",
     "metadata": {},
     "source": [
      "Set up the environment:"
     ]
    },
    {
     "cell_type": "code",
     "collapsed": false,
     "input": [
      "%matplotlib inline\n",
      "import sambuca as sb\n",
      "import numpy as np\n",
      "import pylab\n",
      "from pkg_resources import resource_filename\n",
      "from scipy.io import loadmat\n",
      "from scipy.signal import resample"
     ],
     "language": "python",
     "metadata": {},
     "outputs": []
    },
    {
     "cell_type": "markdown",
     "metadata": {},
     "source": [
      "Load the matlab reference data from sambuca:"
     ]
    },
    {
     "cell_type": "code",
     "collapsed": false,
     "input": [
      "filename = resource_filename(\n",
      "            sb.__name__,\n",
      "            'tests/data/test_resample.mat')\n",
      "data = loadmat(filename, squeeze_me=True)\n",
      "data.keys()"
     ],
     "language": "python",
     "metadata": {},
     "outputs": []
    },
    {
     "cell_type": "markdown",
     "metadata": {},
     "source": [
      "Grab the 1nm input spectra and plot it so we know what we are looking at:"
     ]
    },
    {
     "cell_type": "code",
     "collapsed": true,
     "input": [
      "src_spectra = data['modelled_spectra']\n",
      "pylab.plot(src_spectra, label='Modelled Spectra')\n",
      "pylab.legend(loc='upper right')"
     ],
     "language": "python",
     "metadata": {},
     "outputs": []
    },
    {
     "cell_type": "markdown",
     "metadata": {},
     "source": [
      "Grab the matlab-produced resampled spectra:"
     ]
    },
    {
     "cell_type": "code",
     "collapsed": false,
     "input": [
      "ml_spectra = data['resampled_spectra']\n",
      "pylab.plot(ml_spectra, label='Matlab Sensor Filter')\n",
      "pylab.legend(loc='upper right')"
     ],
     "language": "python",
     "metadata": {},
     "outputs": []
    },
    {
     "cell_type": "markdown",
     "metadata": {},
     "source": [
      "Scipy.signal.resample with default window:"
     ]
    },
    {
     "cell_type": "code",
     "collapsed": false,
     "input": [
      "num_dest_bands = ml_spectra.shape[0]\n",
      "sp_spectra = resample(src_spectra, num_dest_bands)\n",
      "pylab.plot(ml_spectra, label='Matlab Sensor Filter')\n",
      "pylab.plot(sp_spectra, label='scipy.signal.resample Sensor Filter')\n",
      "pylab.legend(loc='upper right')"
     ],
     "language": "python",
     "metadata": {},
     "outputs": []
    },
    {
     "cell_type": "markdown",
     "metadata": {},
     "source": [
      "Use the Sambuca Python sensor filter implementation:"
     ]
    },
    {
     "cell_type": "code",
     "collapsed": false,
     "input": [
      "sensor_filter = data['filt'].transpose()\n",
      "sb_spectra = sb.apply_sensor_filter(src_spectra, sensor_filter)\n",
      "sb_spectra"
     ],
     "language": "python",
     "metadata": {},
     "outputs": []
    },
    {
     "cell_type": "markdown",
     "metadata": {},
     "source": [
      "Confirm that the Sambuca function output matches the Matlab output:"
     ]
    },
    {
     "cell_type": "code",
     "collapsed": false,
     "input": [
      "np.allclose(ml_spectra, sb_spectra)"
     ],
     "language": "python",
     "metadata": {},
     "outputs": []
    },
    {
     "cell_type": "markdown",
     "metadata": {},
     "source": [
      "Finally, plot everything:"
     ]
    },
    {
     "cell_type": "code",
     "collapsed": false,
     "input": [
      "pylab.plot(ml_spectra, label='Matlab Sensor Filter')\n",
      "pylab.plot(sp_spectra, label='scipy.signal.resample Sensor Filter')\n",
      "pylab.plot(sb_spectra, label='Sambuca sensor_filter_ml')\n",
      "pylab.legend(loc='upper right')"
     ],
     "language": "python",
     "metadata": {},
     "outputs": []
    }
   ],
   "metadata": {}
  }
 ]
}