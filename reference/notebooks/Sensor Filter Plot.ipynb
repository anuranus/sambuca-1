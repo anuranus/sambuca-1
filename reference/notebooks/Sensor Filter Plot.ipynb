{
 "metadata": {
  "name": "",
  "signature": "sha256:a5b04b4614d778750537a9cd0cb58aa7df9a97c14bc9ec60d42f93fd690d0230"
 },
 "nbformat": 3,
 "nbformat_minor": 0,
 "worksheets": [
  {
   "cells": [
    {
     "cell_type": "markdown",
     "metadata": {},
     "source": [
      "Load the matlab reference data from sambuca:"
     ]
    },
    {
     "cell_type": "code",
     "collapsed": false,
     "input": [
      "filename = resource_filename(\n",
      "            sb.__name__,\n",
      "            'tests/data/test_resample.mat')\n",
      "data = loadmat(filename, squeeze_me=True)\n",
      "data.keys()"
     ],
     "language": "python",
     "metadata": {},
     "outputs": []
    },
    {
     "cell_type": "markdown",
     "metadata": {},
     "source": [
      "Grab the 1nm input spectra and plot it so we know what we are looking at:"
     ]
    },
    {
     "cell_type": "code",
     "collapsed": true,
     "input": [
      "src_spectra = data['modelled_spectra']\n",
      "plt.plot(src_spectra, label='Modelled Spectra')\n",
      "plt.legend(loc='upper right')"
     ],
     "language": "python",
     "metadata": {},
     "outputs": []
    },
    {
     "cell_type": "markdown",
     "metadata": {},
     "source": [
      "Grab the matlab-produced resampled spectra:"
     ]
    },
    {
     "cell_type": "code",
     "collapsed": false,
     "input": [
      "ml_spectra = data['resampled_spectra']\n",
      "plt.plot(ml_spectra, label='Matlab Sensor Filter')\n",
      "plt.legend(loc='upper right')"
     ],
     "language": "python",
     "metadata": {},
     "outputs": []
    },
    {
     "cell_type": "markdown",
     "metadata": {},
     "source": [
      "Scipy.signal.resample with default window:"
     ]
    },
    {
     "cell_type": "code",
     "collapsed": false,
     "input": [
      "from scipy.signal import resample\n",
      "\n",
      "num_dest_bands = ml_spectra.shape[0]\n",
      "sp_spectra = resample(src_spectra, num_dest_bands)\n",
      "plt.plot(ml_spectra, label='Matlab Sensor Filter')\n",
      "plt.plot(sp_spectra, label='scipy.signal.resample Sensor Filter')\n",
      "plt.legend(loc='upper right')"
     ],
     "language": "python",
     "metadata": {},
     "outputs": []
    },
    {
     "cell_type": "markdown",
     "metadata": {},
     "source": [
      "Use the Sambuca Python sensor filter implementation:"
     ]
    },
    {
     "cell_type": "code",
     "collapsed": false,
     "input": [
      "sensor_filter = data['filt']\n",
      "sb_spectra = sb.apply_sensor_filter(src_spectra, sensor_filter)\n",
      "sb_spectra"
     ],
     "language": "python",
     "metadata": {},
     "outputs": []
    },
    {
     "cell_type": "markdown",
     "metadata": {},
     "source": [
      "Confirm that the Sambuca function output matches the Matlab output:"
     ]
    },
    {
     "cell_type": "code",
     "collapsed": false,
     "input": [
      "np.allclose(ml_spectra, sb_spectra)"
     ],
     "language": "python",
     "metadata": {},
     "outputs": []
    },
    {
     "cell_type": "markdown",
     "metadata": {},
     "source": [
      "Finally, plot everything:"
     ]
    },
    {
     "cell_type": "code",
     "collapsed": false,
     "input": [
      "plt.plot(ml_spectra, label='Matlab Sensor Filter')\n",
      "plt.plot(sp_spectra, label='scipy.signal.resample Sensor Filter')\n",
      "plt.plot(sb_spectra, label='Sambuca sensor_filter_ml')\n",
      "plt.legend(loc='upper right')"
     ],
     "language": "python",
     "metadata": {},
     "outputs": []
    }
   ],
   "metadata": {}
  }
 ]
}